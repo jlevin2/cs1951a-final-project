{
 "cells": [
  {
   "cell_type": "code",
   "execution_count": 1,
   "metadata": {},
   "outputs": [],
   "source": [
    "import pandas as pd\n",
    "import scipy\n",
    "import matplotlib.pyplot as plt\n",
    "\n",
    "from sklearn import linear_model\n",
    "import statsmodels.formula.api as sm\n",
    "import numpy as np\n",
    "import math\n",
    "\n",
    "from sklearn.cluster import KMeans \n",
    "from sklearn.mixture import GaussianMixture\n",
    "%matplotlib inline"
   ]
  },
  {
   "cell_type": "code",
   "execution_count": 2,
   "metadata": {},
   "outputs": [],
   "source": [
    "# Read in data\n",
    "raw_df = pd.read_csv('../data/CollegeScorecard_Raw_Data/MERGED2016_17_PP.csv',\n",
    "                     header=0,\n",
    "                     low_memory=False)\n",
    "\n",
    "# raw_df = raw_df.append(pd.read_csv('../data/CollegeScorecard_Raw_Data/MERGED2015_16_PP.csv',\n",
    "#                      header=0,\n",
    "#                      low_memory=False))\n",
    "\n",
    "# raw_df = raw_df.append(pd.read_csv('../data/CollegeScorecard_Raw_Data/MERGED2014_15_PP.csv',\n",
    "#                      header=0,\n",
    "#                      low_memory=False))\n",
    "\n",
    "# raw_df = raw_df.append(pd.read_csv('../data/CollegeScorecard_Raw_Data/MERGED2013_14_PP.csv',\n",
    "#                      header=0,\n",
    "#                      low_memory=False))"
   ]
  },
  {
   "cell_type": "code",
   "execution_count": 3,
   "metadata": {},
   "outputs": [
    {
     "name": "stdout",
     "output_type": "stream",
     "text": [
      "7175\n",
      "6442\n",
      "1093\n"
     ]
    }
   ],
   "source": [
    "div_adm = [\"UNITID\", \"INSTNM\", \"ADM_RATE\",\"SAT_AVG\", \n",
    "           \"UGDS\", \"UGDS_WHITE\",\n",
    "           \"UGDS_BLACK\", \"UGDS_HISP\",\n",
    "           \"UGDS_ASIAN\"]\n",
    "\n",
    "# Remove majority/historic diverse schools\n",
    "# Select demographics of interest\n",
    "print(len(raw_df))\n",
    "names = raw_df[(raw_df[\"HBCU\"] == 1) | (raw_df[\"PBI\"] == 1) | \n",
    "                  (raw_df[\"ANNHI\"] == 1) | (raw_df[\"TRIBAL\"] == 1) |\n",
    "                  (raw_df[\"AANAPII\"] == 1) | (raw_df[\"HSI\"] == 1)]\n",
    "names = names[['UNITID']]\n",
    "\n",
    "filtered = raw_df[~raw_df['UNITID'].isin(names['UNITID'])]\n",
    "\n",
    "print(len(filtered))\n",
    "\n",
    "df = filtered[div_adm]\n",
    "df = df.round(2).dropna()\n",
    "\n",
    "#df['buck_adm'] = pd.cut(df['ADM_RATE'], bins=10, precision=2)\n",
    "#df['buck_sat'] = pd.cut(df['SAT_AVG'], bins=15, precision=0)\n",
    "#df = df[['buck_adm', 'buck_sat', 'UGDS_BLACK', 'UGDS_WHITE', 'UGDS_ASIAN', 'UGDS_HISP']].dropna()\n",
    "print(len(df))"
   ]
  },
  {
   "cell_type": "code",
   "execution_count": 4,
   "metadata": {},
   "outputs": [
    {
     "data": {
      "text/plain": [
       "<matplotlib.axes._subplots.AxesSubplot at 0x11ac8cba8>"
      ]
     },
     "execution_count": 4,
     "metadata": {},
     "output_type": "execute_result"
    },
    {
     "data": {
      "image/png": "[encoded data removed]",
      "text/plain": [
       "<Figure size 432x288 with 1 Axes>"
      ]
     },
     "metadata": {
      "needs_background": "light"
     },
     "output_type": "display_data"
    }
   ],
   "source": [
    "data = df[[\"ADM_RATE\",\"SAT_AVG\", \"UGDS_WHITE\", \"UGDS_BLACK\", \"UGDS_HISP\",\"UGDS_ASIAN\"]]\n",
    "labelled = df[[\"INSTNM\",\"ADM_RATE\",\"SAT_AVG\", \"UGDS_WHITE\", \"UGDS_BLACK\", \"UGDS_HISP\",\"UGDS_ASIAN\"]]\n",
    "data = data[data[\"ADM_RATE\"] < 0.25]\n",
    "labelled = labelled[labelled[\"ADM_RATE\"] < 0.25]\n",
    "\n",
    "data = data[[\"UGDS_WHITE\", \"UGDS_BLACK\", \"UGDS_HISP\",\"UGDS_ASIAN\"]]\n",
    "labelled = labelled[[\"INSTNM\",\"UGDS_WHITE\", \"UGDS_BLACK\", \"UGDS_HISP\",\"UGDS_ASIAN\"]]\n",
    "\n",
    "values = []\n",
    "for i in range(5, 25):\n",
    "    kmeans = KMeans(n_clusters=i, random_state=0)\n",
    "\n",
    "    kmeans.fit(data)\n",
    "    \n",
    "    values.append([i, kmeans.score(data)])\n",
    "\n",
    "\n",
    "values = np.array(values)\n",
    "#values = np.reshape(values, (20,2))\n",
    "\n",
    "v = pd.DataFrame({'Clusters' : values[:,0], 'Score' : values[:,1]})\n",
    "\n",
    "v.plot.scatter(x='Clusters', y='Score')"
   ]
  },
  {
   "cell_type": "code",
   "execution_count": 5,
   "metadata": {},
   "outputs": [
    {
     "data": {
      "text/plain": [
       "KMeans(algorithm='auto', copy_x=True, init='k-means++', max_iter=300,\n",
       "    n_clusters=8, n_init=10, n_jobs=None, precompute_distances='auto',\n",
       "    random_state=0, tol=0.0001, verbose=0)"
      ]
     },
     "execution_count": 5,
     "metadata": {},
     "output_type": "execute_result"
    }
   ],
   "source": [
    "num_clusters = 8\n",
    "kmeans = KMeans(n_clusters=num_clusters, random_state=0)\n",
    "\n",
    "kmeans.fit(data)\n",
    "\n",
    "#plt.scatter(x=kmeans.cluster_centers_[:,0],y=kmeans.cluster_centers_[:,1])"
   ]
  },
  {
   "cell_type": "code",
   "execution_count": 6,
   "metadata": {},
   "outputs": [
    {
     "name": "stdout",
     "output_type": "stream",
     "text": [
      "['Oak Hills Christian College', 'United States Merchant Marine Academy', 'Reading Hospital School of Health Sciences', 'Washington and Lee University']\n",
      "\n",
      "['Claremont McKenna College', 'Pomona College', 'University of Southern California', 'Yale University', 'University of Chicago', 'Northwestern University', 'Amherst College', 'Harvard University', 'Princeton University', 'Columbia University in the City of New York', 'Cornell University', 'Duke University', 'University of Pennsylvania', 'Swarthmore College', 'Brown University']\n",
      "\n",
      "['University of Notre Dame', 'Colby College', 'Carleton College', 'Davidson College', 'Haverford College', 'Middlebury College']\n",
      "\n",
      "['California Institute of Technology', 'University of California-Berkeley', 'Carnegie Mellon University']\n",
      "\n",
      "['Dallas Christian College', 'Southwestern Assemblies of God University']\n",
      "\n",
      "['Alice Lloyd College', 'College of the Ozarks']\n",
      "\n",
      "['Georgetown University', 'Grinnell College', 'Tufts University', 'Williams College', 'Washington University in St Louis', 'Dartmouth College', 'Barnard College', 'Vanderbilt University', 'Liberty University', 'Franklin W Olin College of Engineering']\n",
      "\n",
      "['University of California-Los Angeles', 'Harvey Mudd College', 'Johns Hopkins University', 'Massachusetts Institute of Technology', 'Rice University', 'Stanford University']\n",
      "\n"
     ]
    }
   ],
   "source": [
    "clusters = [[] for i in range(0,num_clusters)]\n",
    "for i,k in enumerate(kmeans.labels_):\n",
    "    clusters[k].append(labelled.values[i][0])\n",
    "    \n",
    "for r in clusters:\n",
    "    print(str(r) + '\\n')"
   ]
  },
  {
   "cell_type": "code",
   "execution_count": null,
   "metadata": {},
   "outputs": [],
   "source": []
  },
  {
   "cell_type": "code",
   "execution_count": null,
   "metadata": {},
   "outputs": [],
   "source": []
  }
 ],
 "metadata": {
  "kernelspec": {
   "display_name": "Python 3",
   "language": "python",
   "name": "python3"
  },
  "language_info": {
   "codemirror_mode": {
    "name": "ipython",
    "version": 3
   },
   "file_extension": ".py",
   "mimetype": "text/x-python",
   "name": "python",
   "nbconvert_exporter": "python",
   "pygments_lexer": "ipython3",
   "version": "3.7.0"
  }
 },
 "nbformat": 4,
 "nbformat_minor": 1
}
