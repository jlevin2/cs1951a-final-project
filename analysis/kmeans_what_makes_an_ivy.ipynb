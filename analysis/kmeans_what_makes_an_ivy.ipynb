{
 "cells": [
  {
   "cell_type": "code",
   "execution_count": 34,
   "metadata": {},
   "outputs": [],
   "source": [
    "import pandas as pd\n",
    "import scipy\n",
    "import matplotlib\n",
    "import matplotlib.pyplot as plt\n",
    "from mpl_toolkits.mplot3d import Axes3D\n",
    "\n",
    "from sklearn import linear_model\n",
    "import statsmodels.formula.api as sm\n",
    "import numpy as np\n",
    "import math\n",
    "\n",
    "from sklearn.cluster import KMeans \n",
    "from sklearn.mixture import GaussianMixture\n",
    "from sklearn.decomposition import PCA\n",
    "#%matplotlib inline\n",
    "%matplotlib notebook"
   ]
  },
  {
   "cell_type": "code",
   "execution_count": 2,
   "metadata": {},
   "outputs": [],
   "source": [
    "# Read in data\n",
    "raw_df = pd.read_csv('../data/CollegeScorecard_Raw_Data/MERGED2016_17_PP.csv',\n",
    "                     header=0,\n",
    "                     low_memory=False)"
   ]
  },
  {
   "cell_type": "code",
   "execution_count": 3,
   "metadata": {},
   "outputs": [
    {
     "name": "stderr",
     "output_type": "stream",
     "text": [
      "/Library/Frameworks/Python.framework/Versions/3.7/lib/python3.7/site-packages/ipykernel_launcher.py:24: FutureWarning: convert_objects is deprecated.  To re-infer data dtypes for object columns, use DataFrame.infer_objects()\n",
      "For all other conversions use the data-type specific converters pd.to_datetime, pd.to_timedelta and pd.to_numeric.\n"
     ]
    }
   ],
   "source": [
    "ivies = [217156, 166027, 130794, 190415, 186131, 182670, 190150, 186131]\n",
    "attributes = [\"UNITID\", \"INSTNM\", \n",
    "              \"ADM_RATE\",\n",
    "              \"SAT_AVG\", \n",
    "              \"UGDS\", \n",
    "              # Diversity\n",
    "              \"UGDS_WHITE\", \"UGDS_BLACK\", \"UGDS_HISP\", \"UGDS_ASIAN\",\n",
    "              # Economics\n",
    "              \"COSTT4_A\", \"PCTPELL\", \n",
    "              # Fac Salary\n",
    "              \"AVGFACSAL\",\n",
    "              #Completion rate\n",
    "             \"C150_4\",\n",
    "              # Share of independent students\n",
    "              \"DEP_STAT_PCT_IND\",\n",
    "              # Median debt for completed students\n",
    "              \"GRAD_DEBT_MDN\" #,\n",
    "              # Median salary 10 years after grad\n",
    "              #\"MD_EARN_WNE_P10\"\n",
    "             ]\n",
    "\n",
    "df = raw_df[attributes]\n",
    "\n",
    "df = df.convert_objects(convert_numeric=True).round(2).dropna()"
   ]
  },
  {
   "cell_type": "code",
   "execution_count": 4,
   "metadata": {},
   "outputs": [
    {
     "name": "stdout",
     "output_type": "stream",
     "text": [
      "1206\n"
     ]
    }
   ],
   "source": [
    "data = df[[\"ADM_RATE\",\n",
    "              \"SAT_AVG\", \n",
    "              \"UGDS\", \n",
    "              # Diversity\n",
    "              \"UGDS_WHITE\", \"UGDS_BLACK\", \"UGDS_HISP\", \"UGDS_ASIAN\",\n",
    "              # Economics\n",
    "              \"COSTT4_A\", \"PCTPELL\", \n",
    "              # Fac Salary\n",
    "              \"AVGFACSAL\",\n",
    "              #Completion rate\n",
    "             \"C150_4\",\n",
    "              # Share of independent students\n",
    "              \"DEP_STAT_PCT_IND\",\n",
    "              # Median debt for completed students\n",
    "              \"GRAD_DEBT_MDN\" #,\n",
    "              # Median salary 10 years after grad\n",
    "              #\"MD_EARN_WNE_P10\"\n",
    "             ]]\n",
    "labelled = df[[\"INSTNM\", \"UNITID\"]]\n",
    "print(len(data))"
   ]
  },
  {
   "cell_type": "code",
   "execution_count": 5,
   "metadata": {},
   "outputs": [
    {
     "data": {
      "text/plain": [
       "<matplotlib.axes._subplots.AxesSubplot at 0x12cf458d0>"
      ]
     },
     "execution_count": 5,
     "metadata": {},
     "output_type": "execute_result"
    },
    {
     "data": {
      "image/png": "[encoded data removed]",
      "text/plain": [
       "<Figure size 432x288 with 1 Axes>"
      ]
     },
     "metadata": {
      "needs_background": "light"
     },
     "output_type": "display_data"
    }
   ],
   "source": [
    "# Creating elbowplot over attrbutes\n",
    "values = []\n",
    "for i in range(10, 40):\n",
    "    kmeans = KMeans(n_clusters=i, random_state=0)\n",
    "\n",
    "    kmeans.fit(data)\n",
    "    \n",
    "    values.append([i, kmeans.score(data)])\n",
    "\n",
    "\n",
    "values = np.array(values)\n",
    "#values = np.reshape(values, (20,2))\n",
    "\n",
    "v = pd.DataFrame({'Clusters' : values[:,0], 'Score' : values[:,1]})\n",
    "\n",
    "v.plot.scatter(x='Clusters', y='Score')"
   ]
  },
  {
   "cell_type": "code",
   "execution_count": 6,
   "metadata": {},
   "outputs": [],
   "source": [
    "# Kmeans on our attribute\n",
    "num_clusters = 30\n",
    "kmeans = KMeans(n_clusters=num_clusters, random_state=0)\n",
    "\n",
    "kmeans.fit(data)\n",
    "\n",
    "clusters = [[] for i in range(0,num_clusters)]\n",
    "for i,k in enumerate(kmeans.labels_):\n",
    "    clusters[k].append(labelled.values[i][0])"
   ]
  },
  {
   "cell_type": "code",
   "execution_count": 7,
   "metadata": {},
   "outputs": [
    {
     "name": "stdout",
     "output_type": "stream",
     "text": [
      "Yale University 4\n",
      "Harvard University 4\n",
      "Dartmouth College 22\n",
      "Columbia University in the City of New York 25\n",
      "Cornell University 4\n",
      "Brown University 22\n",
      "[    0.086  1479.875  8265.875     0.434     0.068     0.116     0.19\n",
      " 66572.25      0.133 17429.875     0.951     0.148 12234.562]\n",
      "[    0.221  1410.474  4908.421     0.507     0.058     0.108     0.145\n",
      " 64908.895     0.149 13140.579     0.908     0.066 16063.026]\n",
      "[    0.345  1348.8   14121.7       0.488     0.055     0.108     0.133\n",
      " 65431.3       0.18  13424.6       0.855     0.138 24448.5  ]\n"
     ]
    }
   ],
   "source": [
    "## PRINT IVY CLUSTERS\n",
    "clusters = [[] for i in range(0,num_clusters)]\n",
    "for i,k in enumerate(kmeans.labels_):\n",
    "    if labelled.values[i][1] in ivies:\n",
    "        print(labelled.values[i][0], k)\n",
    "    \n",
    "    #clusters[k].append(labelled.values[i][0])\n",
    "## TO PRINT IVY CLUSTERS\n",
    "# with np.printoptions(precision=3, suppress=True):\n",
    "#     print(kmeans.cluster_centers_[4])\n",
    "#     print(kmeans.cluster_centers_[22])\n",
    "#     print(kmeans.cluster_centers_[25])\n",
    "# for r in clusters:\n",
    "#     print(str(r) + '\\n')\n",
    "    "
   ]
  },
  {
   "cell_type": "code",
   "execution_count": 12,
   "metadata": {},
   "outputs": [
    {
     "name": "stdout",
     "output_type": "stream",
     "text": [
      "['Harding University', 'Post University', 'Flagler College-St Augustine', 'Point University', 'Emmanuel College', 'Truett McConnell University', 'Blackburn College', 'Eureka College', 'Brescia University', 'Kentucky Christian University', 'Maine Maritime Academy', 'Washington Adventist University', 'Massachusetts College of Art and Design', 'Madonna University', 'Rochester College', 'Michigan Technological University', 'Oak Hills Christian College', 'Mississippi College', 'Lindenwood University', 'Bryan College of Health Sciences', 'York College', 'Keene State College', 'College of Mount Saint Vincent', 'St Francis College', 'Belmont Abbey College', 'University of Mount Olive', 'Mid-Atlantic Christian University', 'University of Jamestown', 'Trinity Bible College and Graduate School', 'Cincinnati Christian University', 'Lourdes University', 'Bryn Athyn College of the New Church', 'Lincoln University', 'Pennsylvania State University-Penn State Erie-Behrend College', 'Pennsylvania State University-Penn State Altoona', 'Pennsylvania State University-Penn State Berks', 'Pennsylvania State University-Penn State Harrisburg', 'Pennsylvania State University-Penn State Hazleton', 'Pennsylvania State University-Penn State Mont Alto', 'University of Pittsburgh-Bradford', 'University of Pittsburgh-Johnstown', 'York College of Pennsylvania', 'Converse College', 'Winthrop University', 'Presentation College', 'Bethel University', 'Lee University', 'Dallas Christian College', 'Southwestern Adventist University', 'Regent University', 'Christopher Newport University', 'Longwood University', 'Ohio Valley University', 'Visible Music College', 'Husson University']\n",
      "\n",
      "['Birmingham Southern College', 'Azusa Pacific University', 'Biola University', 'Concordia University-Irvine', 'Point Loma Nazarene University', 'Woodbury University', 'Regis University', 'University of Saint Joseph', 'Berry College', 'Mercer University', 'Morehouse College', 'Oglethorpe University', 'North Central College', 'Wheaton College', 'University of Evansville', 'Trine University', 'Valparaiso University', 'Central College', 'Drake University', 'Simpson College', 'Wartburg College', 'Georgetown College', 'Centenary College of Louisiana', \"Saint Joseph's College of Maine\", 'Stevenson University', 'American International College', 'Becker College', 'Gordon College', 'Lasell College', 'MCPHS University', 'Springfield College', 'Suffolk University', 'Wentworth Institute of Technology', 'Western New England University', 'Wheelock College', 'Adrian College', 'Alma College', 'University of Detroit Mercy', 'Augsburg University', 'Bethel University', 'Hamline University', 'Minneapolis College of Art and Design', 'The College of Saint Scholastica', 'St Catherine University', 'Rockhurst University', 'William Jewell College', 'Sierra Nevada College', 'Franklin Pierce University', 'Centenary University', 'Fairleigh Dickinson University-Metropolitan Campus', 'Monmouth University', 'College of Saint Elizabeth', 'Adelphi University', 'Canisius College', 'Cazenovia College', 'Iona College', 'Keuka College', 'Le Moyne College', 'LIU Post', 'Marymount Manhattan College', 'The College of New Rochelle', 'New York Institute of Technology', 'Elon University', 'High Point University', 'Queens University of Charlotte', 'Capital University', 'Marietta College', 'Xavier University', 'George Fox University', 'DeSales University', 'Cedar Crest College', 'Chestnut Hill College', 'Delaware Valley University', 'Duquesne University', 'Lycoming College', 'Rosemont College', 'Saint Francis University', 'Saint Vincent College', 'Wilkes University', 'Erskine College', 'Presbyterian College', 'Belmont University', 'Maryville College', 'Union University', 'Bridgewater College', 'University of Lynchburg', 'Virginia Wesleyan University', \"Saint Martin's University\", 'Milwaukee School of Engineering']\n",
      "\n",
      "['California State University-Fresno', 'California State University-Los Angeles', 'California State University-Sacramento', 'San Jose State University', 'Florida Atlantic University', 'Brigham Young University-Idaho', 'University of Nevada-Las Vegas', 'The University of Texas Rio Grande Valley', 'The University of Texas at El Paso', 'Brigham Young University-Provo', 'Utah State University', 'University of Utah']\n",
      "\n",
      "['Auburn University at Montgomery', 'University of North Alabama', 'University of Arkansas at Pine Bluff', 'The Baptist College of Florida', 'College of Coastal Georgia', 'Georgia Southwestern State University', 'Gordon State College', 'University of Hawaii at Hilo', 'Lewis-Clark State College', 'Indiana University-Kokomo', 'Indiana University-South Bend', 'Indiana University-Northwest', 'Indiana University-Southeast', 'Indiana University-East', 'Purdue University-North Central Campus', 'Emporia State University', 'Pittsburg State University', 'Louisiana State University-Alexandria', 'Louisiana State University-Shreveport', 'University of Maine at Fort Kent', 'Coppin State University', 'Southwest Minnesota State University', 'Delta State University', 'Calvary University', 'Missouri Southern State University', 'Northwest Missouri State University', 'Montana Tech of the University of Montana', 'New Mexico Institute of Mining and Technology', 'Elizabeth City State University', 'Fayetteville State University', 'University of North Carolina at Asheville', 'University of North Carolina at Pembroke', 'Dickinson State University', 'Mayville State University', 'Minot State University', 'Valley City State University', 'Shawnee State University', 'Wright State University-Lake Campus', 'East Central University', 'Northeastern State University', 'University of Science and Arts of Oklahoma', 'Southern Oregon University', 'Rhode Island College', 'Midwestern State University', 'Bluefield State College', 'Concord University', 'Fairmont State University', 'Shepherd University', 'West Virginia State University', 'West Virginia University Institute of Technology', 'University of Wisconsin-Green Bay', 'University of Wisconsin-Parkside', 'University of Wisconsin-Superior', 'University of Connecticut-Waterbury Campus', 'University of Connecticut-Avery Point', 'University of Connecticut-Stamford']\n",
      "\n",
      "['Dominican University of California', 'Loyola Marymount University', 'Mills College', 'University of the Pacific', 'Pepperdine University', 'University of Redlands', 'University of San Diego', 'University of San Francisco', 'Santa Clara University', \"Saint Mary's College of California\", 'Westmont College', 'University of Denver', 'Quinnipiac University', 'American University', 'School of the Art Institute of Chicago', 'Illinois Institute of Technology', 'Rose-Hulman Institute of Technology', 'Tulane University of Louisiana', 'Maryland Institute College of Art', \"St. John's College\", 'Bentley University', 'Brandeis University', 'Emerson College', 'Clarkson University', 'Fordham University', 'Hobart William Smith Colleges', 'The New School', 'Pratt Institute-Main', 'Rensselaer Polytechnic Institute', 'Yeshiva University', 'Case Western Reserve University', 'Lewis & Clark College', 'Bryn Mawr College', 'Bucknell University', 'Lehigh University', 'Muhlenberg College', \"Saint Joseph's University\", 'Villanova University', 'Providence College', 'Rhode Island School of Design', 'University of Richmond', 'Seattle University']\n",
      "\n",
      "['Oakwood University', 'Tuskegee University', 'Hope International University', 'Wesley College', 'Webber International University', 'Clark Atlanta University', 'Brenau University', 'Young Harris College', 'Northwest Nazarene University', 'Rockford University', 'Dominican University', 'University of St Francis', 'Saint Xavier University', 'Trinity Christian College', 'Anderson University', 'Bethel College-Indiana', 'Holy Cross College', 'Huntington University', 'University of Indianapolis', 'Indiana Institute of Technology', 'University of Saint Francis-Fort Wayne', 'Saint Josephs College', 'University of Dubuque', 'Loras College', 'Bethany College', 'McPherson College', 'Southwestern College', 'Asbury University', 'Thomas More College', 'Andrews University', 'Aquinas College', 'Concordia University-Ann Arbor', 'Cornerstone University', 'Olivet College', 'Spring Arbor University', 'Crown College', 'Avila University', 'Culver-Stockton College', 'Fontbonne University', 'Westminster College', 'Rocky Mountain College', 'Concordia University-Nebraska', 'Hastings College', 'Midland University', 'Concordia College-New York', 'Dominican College of Blauvelt', 'Nyack College', 'Greensboro College', 'Mars Hill University', 'Montreat College', 'Art Academy of Cincinnati', 'Heidelberg University', 'Malone University', 'University of Mount Union', 'Mount Vernon Nazarene University', 'Mount Saint Joseph University', 'Muskingum University', 'Notre Dame College', 'Ursuline College', 'Walsh University', 'Wilmington College', 'Oral Roberts University', 'Carlow University', 'Holy Family University', 'Keystone College', 'La Roche College', 'Neumann University', 'Cairn University-Langhorne', 'Wilson College', 'Anderson University', 'Charleston Southern University', 'Coker College', 'Limestone College', 'Newberry College', 'Augustana University', 'Dakota Wesleyan University', 'Mount Marty College', 'Carson-Newman University', 'Christian Brothers University', 'Fisk University', \"O'More College of Design\", 'East Texas Baptist University', 'Howard Payne University', 'University of the Incarnate Word', 'University of Mary Hardin-Baylor', 'McMurry University', \"St. Mary's University\", 'Texas Lutheran University', 'Southern Vermont College', 'Hampton University', 'Walla Walla University', 'Alderson Broaddus University', 'Bethany College', 'Wheeling Jesuit University', 'Cardinal Stritch University', 'Edgewood College', 'Lakeland University', 'Marian University', 'Mount Mary University', 'Viterbo University', 'Wisconsin Lutheran College', 'Watkins College of Art Design & Film']\n",
      "\n",
      "['Armstrong State University', 'Georgia College & State University', 'Northern Illinois University', 'Southern Illinois University-Carbondale', 'Western Illinois University', 'University of Maine', 'University of Maryland-Baltimore County', 'University of Massachusetts-Lowell', 'Salem State University', 'University of Massachusetts-Dartmouth', 'University of Minnesota-Duluth', 'University of New Hampshire-Main Campus', 'Rowan University', 'Kean University', 'New Jersey Institute of Technology', 'Ramapo College of New Jersey', 'Rutgers University-Camden', 'Rutgers University-Newark', 'Stockton University', 'William Paterson University of New Jersey', 'California University of Pennsylvania', 'East Stroudsburg University of Pennsylvania', 'Indiana University of Pennsylvania-Main Campus', 'Kutztown University of Pennsylvania', 'Millersville University of Pennsylvania', 'Shippensburg University of Pennsylvania', 'Slippery Rock University of Pennsylvania', 'University of Rhode Island', 'College of Charleston', 'Coastal Carolina University', 'South Dakota State University', 'University of Vermont', 'Arizona State University-Downtown Phoenix']\n",
      "\n",
      "['Williams Baptist College', 'Life Pacific College', 'Fort Lewis College', 'Western State Colorado University', \"St Vincent's College\", 'Adventist University of Health Sciences', 'Trinity Baptist College', 'Boise Bible College', 'Lincoln Christian University', 'University of Illinois at Springfield', 'Emmaus Bible College', 'Manhattan Christian College', 'Alice Lloyd College', 'Louisiana College', 'Franciscan Missionaries of Our Lady University', 'University of Baltimore', \"St Mary's College of Maryland\", 'Kuyper College', 'Martin Luther College', 'University of Minnesota-Crookston', 'University of Minnesota-Morris', 'William Carey University', 'Central Christian College of the Bible', 'Ozark Christian College', 'University of the Southwest', 'SUNY College of Agriculture and Technology at Cobleskill', 'Morrisville State College', 'SUNY College of Environmental Science and Forestry', 'SUNY at Purchase College', 'Cabarrus College of Health Sciences', 'University of Mary', 'Aultman College of Nursing and Health Sciences', 'The Christ College of Nursing and Health Sciences', 'Good Samaritan College of Nursing and Health Science', 'Wilberforce University', 'Randall University', 'Central Penn College', 'Bob Jones University', 'Citadel Military College of South Carolina', 'Hiwassee College', 'Wayland Baptist University', 'University of Mary Washington', 'Southern Virginia University', \"The University of Virginia's College at Wise\", 'Appalachian Bible College', 'Arizona State University-Polytechnic', 'University of Minnesota-Rochester']\n",
      "\n",
      "['Arizona State University-Tempe', 'University of Central Florida', 'Florida International University', 'Michigan State University', 'Ohio State University-Main Campus', 'Pennsylvania State University-Main Campus', 'Texas A & M University-College Station', 'The University of Texas at Austin', 'Liberty University']\n",
      "\n",
      "['Chapman University', 'Scripps College', 'Yale University', 'Georgetown University', 'University of Miami', 'Emory University', 'University of Chicago', 'Northwestern University', 'University of Notre Dame', 'Johns Hopkins University', 'Amherst College', 'Boston College', 'Harvard University', 'Massachusetts Institute of Technology', 'Tufts University', 'Wellesley College', 'Washington University in St Louis', 'Dartmouth College', 'Columbia University in the City of New York', 'Cornell University', 'Skidmore College', 'Vassar College', 'Duke University', 'University of Pennsylvania', 'Brown University', 'Vanderbilt University', 'Rice University', 'Southern Methodist University', 'Middlebury College', 'Stanford University']\n",
      "\n",
      "['Auburn University', 'University of California-Riverside', 'University of California-Santa Barbara', 'University of California-Santa Cruz', 'University of Connecticut', 'Illinois State University', 'University of Massachusetts-Amherst', 'Miami University-Oxford', 'University of Pittsburgh-Pittsburgh Campus', 'Clemson University', 'The University of Tennessee-Knoxville', 'Virginia Commonwealth University', 'University of Virginia-Main Campus']\n",
      "\n",
      "['Jacksonville State University', 'University of South Alabama', 'Troy University', 'University of Central Arkansas', 'University of Colorado Denver/Anschutz Medical Campus', 'University of Colorado Colorado Springs', 'Colorado Mesa University', 'University of Northern Colorado', 'Central Connecticut State University', 'Southern Connecticut State University', 'Florida Agricultural and Mechanical University', 'Columbus State University', 'Valdosta State University', 'University of West Georgia', 'University of Idaho', 'Southern Illinois University-Edwardsville', 'Indiana University-Purdue University-Fort Wayne', 'University of Southern Indiana', 'Indiana State University', 'University of Northern Iowa', 'Wichita State University', 'Eastern Kentucky University', 'Morehead State University', 'Murray State University', 'Northern Kentucky University', 'Southeastern Louisiana University', 'Bridgewater State University', 'Ferris State University', 'University of Michigan-Dearborn', 'Saginaw Valley State University', 'Minnesota State University-Mankato', 'Saint Cloud State University', 'Winona State University', 'Jackson State University', 'University of Southern Mississippi', 'University of Central Missouri', 'Missouri University of Science and Technology', 'Southeast Missouri State University', 'The University of Montana', 'University of Nebraska at Omaha', 'North Carolina A & T State University', 'Western Carolina University', 'University of North Dakota', 'North Dakota State University-Main Campus', 'Cleveland State University', 'Wright State University-Main Campus', 'Youngstown State University', 'Bloomsburg University of Pennsylvania', 'University of South Dakota', 'Austin Peay State University', 'East Tennessee State University', 'The University of Tennessee-Chattanooga', 'The University of Tennessee-Martin', 'Texas A & M University-Corpus Christi', 'Lamar University', 'Stephen F Austin State University', 'Tarleton State University', \"Texas Woman's University\", 'Central Washington University', 'Eastern Washington University', 'Marshall University', 'University of Wisconsin-Whitewater', 'University of Wisconsin-Eau Claire', 'University of Wisconsin-La Crosse', 'University of Wisconsin-Oshkosh', 'University of Wisconsin-Stout', 'University of Wisconsin-Platteville', 'University of Wisconsin-Stevens Point']\n",
      "\n",
      "['University of West Alabama', 'University of Montevallo', 'Central Baptist College', 'Adams State University', 'Johnson University Florida', 'Trinity College of Florida', 'Central Christian College of Kansas', 'Bowie State University', 'University of Maryland Eastern Shore', 'Framingham State University', 'Massachusetts Maritime Academy', 'Massachusetts College of Liberal Arts', 'Lake Superior State University', 'University of Michigan-Flint', 'Mississippi Valley State University', 'Clarkson College', 'Nebraska Methodist College of Nursing & Allied Health', 'University of New Hampshire at Manchester', 'SUNY at Fredonia', 'SUNY Maritime College', 'University of North Carolina School of the Arts', 'Winston-Salem State University', 'Mount Carmel College of Nursing', 'Southwestern Christian University', 'Eastern Oregon University', 'Oregon Institute of Technology', 'Western Oregon University', 'Clarion University of Pennsylvania', 'Edinboro University of Pennsylvania', 'Lock Haven University', 'Mansfield University of Pennsylvania', 'Pennsylvania State University-Penn State New Kensington', 'Pennsylvania State University-Penn State Shenango', 'Pennsylvania State University-Penn State Wilkes-Barre', 'Pennsylvania State University-Penn State Worthington Scranton', 'Pennsylvania State University-Penn State Lehigh Valley', 'Pennsylvania State University-Penn State Beaver', 'Pennsylvania State University-Penn State Brandywine', 'Pennsylvania State University-Penn State DuBois', 'Pennsylvania State University-Penn State Fayette- Eberly', 'Pennsylvania State University-Penn State Greater Allegheny', 'Pennsylvania State University-Penn State Abington', 'Pennsylvania State University-Penn State Schuylkill', 'Pennsylvania State University-Penn State York', 'University of Pittsburgh-Greensburg', 'Lander University', 'University of South Carolina-Aiken', 'University of South Carolina-Beaufort', 'Black Hills State University', 'Dakota State University', 'Northern State University', 'South Dakota School of Mines and Technology', 'Johnson University', 'Castleton University', 'Johnson State College', 'Lyndon State College', 'Glenville State College', 'West Liberty University']\n",
      "\n",
      "['University of Alaska Fairbanks', 'Southern Arkansas University Main Campus', 'Abraham Baldwin Agricultural College', 'University of New Orleans', 'Blue Mountain College', 'Mississippi University for Women', 'Midwestern Baptist Theological Seminary', 'Montana State University-Northern', 'Eastern New Mexico University-Main Campus', 'CUNY York College', 'SUNY College of Technology at Alfred', 'SUNY Polytechnic Institute', 'SUNY College at Old Westbury', 'Northwestern Oklahoma State University', 'Southeastern Oklahoma State University', 'Southwestern Oklahoma State University', 'Texas A&M University-Texarkana', 'Texas A & M International University', 'Sul Ross State University', 'The University of Texas of the Permian Basin', 'Brigham Young University-Hawaii', 'Southern Utah University', 'University of the Virgin Islands', 'New College of Florida', 'University of Washington-Bothell Campus', 'University of Washington-Tacoma Campus', 'University of North Texas at Dallas', 'Piedmont International University']\n",
      "\n",
      "['University of Alabama at Birmingham', 'California State University-Chico', 'Metropolitan State University of Denver', 'Georgia Institute of Technology-Main Campus', 'Georgia Southern University', 'University of Hawaii at Manoa', 'Boise State University', 'Ball State University', 'University of Louisville', 'Western Kentucky University', 'University of Louisiana at Lafayette', 'University of Massachusetts-Boston', 'Eastern Michigan University', 'Oakland University', 'Wayne State University', 'Western Michigan University', 'Mississippi State University', 'Missouri State University-Springfield', 'Montana State University', 'University of Nevada-Reno', 'University of New Mexico-Main Campus', 'SUNY at Albany', 'Binghamton University', 'Stony Brook University', 'Appalachian State University', 'University of North Carolina at Greensboro', 'University of North Carolina Wilmington', 'University of Akron Main Campus', 'Bowling Green State University-Main Campus', 'University of Toledo', 'University of Central Oklahoma', 'Portland State University', 'West Chester University of Pennsylvania', 'University of Memphis', 'Middle Tennessee State University', 'Sam Houston State University', 'The University of Texas at Dallas', 'Western Washington University', 'Florida Gulf Coast University']\n",
      "\n",
      "['University of Arkansas', 'California Polytechnic State University-San Luis Obispo', 'California State Polytechnic University-Pomona', 'San Francisco State University', 'Colorado State University-Fort Collins', 'University of Delaware', 'Georgia State University', 'University of Illinois at Chicago', 'Indiana University-Purdue University-Indianapolis', 'University of Iowa', 'University of Kansas', 'University of Kentucky', 'Louisiana State University and Agricultural & Mechanical College', 'Towson University', 'Central Michigan University', 'Grand Valley State University', 'University of Mississippi', 'University of Missouri-Columbia', 'University of Nebraska-Lincoln', 'University at Buffalo', 'East Carolina University', 'University of North Carolina at Chapel Hill', 'University of North Carolina at Charlotte', 'North Carolina State University at Raleigh', 'University of Cincinnati-Main Campus', 'Kent State University at Kent', 'Ohio University-Main Campus', 'Oklahoma State University-Main Campus', 'University of Oklahoma-Norman Campus', 'Oregon State University', 'University of Oregon', 'University of South Carolina-Columbia', 'The University of Texas at San Antonio', 'George Mason University', 'James Madison University', 'Old Dominion University', 'Virginia Polytechnic Institute and State University', 'Washington State University', 'West Virginia University', 'University of Wisconsin-Milwaukee']\n",
      "\n",
      "['Samford University', 'Prescott College', 'Arizona Christian University', 'John Brown University', 'University of the Ozarks', 'Fresno Pacific University', \"The Master's University and Seminary\", 'William Jessup University', 'Simpson University', 'Palm Beach Atlantic University', 'St Thomas University', 'Concordia University-Chicago', 'Judson University', 'Lewis University', 'McKendree University', 'Quincy University', 'Goshen College', 'Oakland City University', 'Dordt College', 'Graceland University-Lamoni', 'Mount Mercy University', 'Upper Iowa University', 'Kansas Wesleyan University', 'MidAmerica Nazarene University', 'University of Saint Mary', 'Tabor College', 'Midway University', 'Lesley University', 'Northwood University', 'University of Northwestern-St Paul', 'Webster University', 'William Woods University', 'Houghton College', 'Roberts Wesleyan College', 'North Carolina Wesleyan College', 'Pfeiffer University', 'Cedarville University', 'Concordia University-Portland', 'Northwest Christian University', 'Columbia College', 'University of Sioux Falls', 'Lipscomb University', 'Dallas Baptist University', 'Houston Baptist University', 'University of St Thomas', 'Texas Wesleyan University', 'Bluefield College', 'Northwest University', 'University of Charleston', 'Davis & Elkins College']\n",
      "\n",
      "['Paine College', 'Methodist College', 'Dillard University', 'Grambling State University', 'Marygrove College', 'Chowan University', 'Johnson C Smith University', 'Livingstone College', \"Saint Augustine's University\", 'Bacone College', 'Claflin University', 'South Carolina State University']\n",
      "\n",
      "['University of Alabama in Huntsville', 'University of Arkansas at Little Rock', 'Arkansas State University-Main Campus', 'Henderson State University', 'Humboldt State University', 'Sonoma State University', 'Colorado State University-Pueblo', 'The University of West Florida', 'Eastern Illinois University', 'Northeastern Illinois University', 'Purdue University-Calumet Campus', 'Louisiana Tech University', 'McNeese State University', 'Nicholls State University', 'University of Louisiana at Monroe', 'Northwestern State University of Louisiana', 'University of Southern Maine', 'Frostburg State University', 'Fitchburg State University', 'Westfield State University', 'Worcester State University', 'Northern Michigan University', 'Bemidji State University', 'Minnesota State University Moorhead', 'University of Missouri-Kansas City', 'University of Missouri-St Louis', 'Truman State University', 'University of Nebraska at Kearney', 'New Jersey City University', 'SUNY College of Technology at Canton', 'SUNY College at Brockport', 'SUNY Buffalo State', 'SUNY Cortland', 'SUNY College at Geneseo', 'State University of New York at New Paltz', 'SUNY Oneonta', 'SUNY College at Oswego', 'SUNY College at Plattsburgh', 'University of South Carolina-Upstate', 'Tennessee Technological University', 'Angelo State University', 'Texas A & M University-Commerce', 'Texas A & M University-Kingsville', 'The University of Texas at Tyler', 'West Texas A & M University', 'The Evergreen State College', 'University of Wisconsin-River Falls', 'University of Wyoming', 'Arizona State University-West', 'University of South Florida-St Petersburg', 'Augusta University']\n",
      "\n",
      "['University of California-Berkeley', 'University of California-Davis', 'University of California-Irvine', 'University of California-Los Angeles', 'University of California-San Diego', 'University of Colorado Boulder', 'University of Illinois at Urbana-Champaign', 'University of Michigan-Ann Arbor', 'University of Washington-Seattle Campus']\n",
      "\n",
      "['Hendrix College', 'California Lutheran University', 'Holy Names University', 'University of La Verne', 'Menlo College', \"Mount Saint Mary's University\", 'Notre Dame de Namur University', 'Whittier College', 'University of Bridgeport', 'University of Hartford', 'University of New Haven', 'Lynn University', 'Eckerd College', 'Florida Institute of Technology', 'Butler University', 'Coe College', 'Cornell College', 'Luther College', 'Bellarmine University', 'Loyola University New Orleans', 'University of New England', \"Mount St. Mary's University\", 'McDaniel College', 'Curry College', 'Emmanuel College', 'Simmons College', 'Albion College', 'College for Creative Studies', 'Kettering University', 'College of Saint Benedict', 'Saint Johns University', 'St Olaf College', 'University of St Thomas', 'Kansas City Art Institute', 'Creighton University', 'Saint Anselm College', 'Fairleigh Dickinson University-Florham Campus', 'Rider University', 'Seton Hall University', 'Hartwick College', 'Manhattan College', 'School of Visual Arts', 'Wells College', 'Methodist University', 'Cleveland Institute of Art', 'John Carroll University', 'University of Tulsa', 'Linfield College-McMinnville Campus', 'Pacific University', 'University of Portland', 'Arcadia University', 'Elizabethtown College', 'Immaculata University', 'La Salle University', 'Lebanon Valley College', 'Moravian College', 'Jefferson (Philadelphia University + Thomas Jefferson University)', 'The University of the Arts', 'University of the Sciences', 'University of Scranton', 'Widener University', 'Austin College', 'University of Dallas', \"Saint Edward's University\", 'Southwestern University', 'Trinity University', 'Champlain College', 'Hollins University', 'Randolph-Macon College', 'Randolph College', 'Roanoke College', 'Sweet Briar College', 'Gonzaga University', 'Pacific Lutheran University', 'Seattle Pacific University', 'Whitworth University', 'Beloit College', 'Carthage College', 'Lawrence University', \"The King's College\"]\n",
      "\n",
      "['Alabama A & M University', 'Alabama State University', 'Southeastern Bible College', 'Stillman College', 'Delaware State University', 'Edward Waters College', 'Albany State University', 'Fort Valley State University', 'Savannah State University', 'Chicago State University', 'Kentucky State University', 'University of Holy Cross', 'Southern University and A & M College', 'Southern University at New Orleans', 'Morgan State University', 'Alcorn State University', 'Rust College', 'Tougaloo College', 'Saint Louis Christian College', 'John Wesley University', 'North Carolina Central University', 'Central State University', 'Francis Marion University', 'Baptist Memorial College of Health Sciences', 'Lane College', 'Le Moyne-Owen College', 'Paul Quinn College', 'Prairie View A & M University', 'Texas Southern University', 'Norfolk State University', 'Virginia State University', \"The King's University\"]\n",
      "\n",
      "['Savannah College of Art and Design', 'Loyola University Chicago', 'Saint Louis University', 'Hofstra University', 'Pace University-New York', 'Rochester Institute of Technology', \"St John's University-New York\", 'University of Dayton', 'Baylor University', 'Texas Christian University', 'Marquette University']\n",
      "\n",
      "['The University of Alabama', 'California State University-Fullerton', 'California State University-Long Beach', 'California State University-Northridge', 'San Diego State University', 'Florida State University', 'University of Florida', 'University of South Florida-Main Campus', 'University of Georgia', 'Indiana University-Bloomington', 'Iowa State University', 'University of Maryland-College Park', 'University of Minnesota-Twin Cities', 'Rutgers University-New Brunswick', 'University of Houston', 'University of North Texas', 'Texas State University', 'The University of Texas at Arlington', 'Texas Tech University', 'University of Wisconsin-Madison', 'Purdue University-Main Campus', 'Kennesaw State University']\n",
      "\n",
      "['University of Southern California', 'George Washington University', 'Boston University', 'Northeastern University', 'New York University', 'Syracuse University', 'Drexel University']\n",
      "\n",
      "['Gallaudet University', 'Florida College', 'Life University', 'Lincoln College', 'Waldorf University', 'Berea College', 'University of the Cumberlands', 'Central Methodist University-College of Liberal Arts and Sciences', 'Cottey College', 'Grace University', \"St. Joseph's College-New York\", 'Lancaster Bible College', 'Lincoln Memorial University', 'Trevecca Nazarene University', 'College of William and Mary', 'University of California-Merced', 'Ecclesia College']\n",
      "\n",
      "['California Baptist University', 'San Diego Christian College', 'La Sierra University', 'Pacific Union College', 'Vanguard University of Southern California', 'Howard University', 'Barry University', 'Florida Southern College', 'Nova Southeastern University', 'The University of Tampa', 'LaGrange College', 'Spelman College', 'Bradley University', 'Elmhurst College', 'Millikin University', 'Monmouth College', 'Olivet Nazarene University', 'Roosevelt University', 'Trinity International University-Illinois', 'Franklin College', 'Manchester University', 'Marian University', 'Saint Mary-of-the-Woods College', 'Taylor University', 'Buena Vista University', 'Clarke University', 'Iowa Wesleyan University', 'Morningside College', 'Northwestern College', 'Saint Ambrose University', 'Baker University', 'Benedictine College', 'Notre Dame of Maryland University', 'Bay Path University', 'Eastern Nazarene College', 'College of Our Lady of the Elms', 'Calvin College', 'Hope College', 'Lawrence Technological University', \"Saint Mary's University of Minnesota\", 'Maryville University of Saint Louis', 'Stephens College', 'Carroll College', 'Doane University-Arts & Sciences', 'Nebraska Wesleyan University', 'Bloomfield College', 'Caldwell University', 'Felician University', 'Georgian Court University', \"Saint Peter's University\", 'Albany College of Pharmacy and Health Sciences', 'Alfred University', 'LIM College', 'Molloy College', 'Mount Saint Mary College', 'Niagara University', 'St Bonaventure University', 'St. Thomas Aquinas College', 'Saint John Fisher College', 'Barton College', 'Campbell University', 'Catawba College', 'Gardner-Webb University', 'Lenoir-Rhyne University', 'Meredith College', 'William Peace University', 'Salem College', 'St. Andrews University', 'Wingate University', 'Bluffton University', 'Defiance College', 'The University of Findlay', 'Hiram College', 'Lake Erie College', 'Ohio Dominican University', 'Ohio Northern University', 'Otterbein University', 'Oklahoma City University', 'Corban University', 'Alvernia University', 'Cabrini University', 'Eastern University', 'Gannon University', 'Gwynedd Mercy University', 'Marywood University', 'Messiah College', 'Misericordia University', 'Point Park University', 'Robert Morris University', 'Thiel College', 'Memphis College of Art', 'Abilene Christian University', 'Concordia University Texas', 'LeTourneau University', 'Westminster College', 'Averett University', 'Emory & Henry College', 'Eastern Mennonite University', 'Ferrum College', 'Mary Baldwin University', 'Marymount University', 'Shenandoah University', 'West Virginia Wesleyan College', 'Carroll University', 'Concordia University-Wisconsin', 'Saint Norbert College', 'DigiPen Institute of Technology', 'John Paul the Great Catholic University', 'Milligan College']\n",
      "\n",
      "['Faulkner University', 'Huntingdon College', 'Judson College', 'University of Mobile', 'Lyon College', 'Ouachita Baptist University', 'Colorado School of Mines', 'Saint Leo University', 'Southeastern University', 'Warner University', 'Piedmont College', 'Reinhardt University', 'Shorter University', 'Toccoa Falls College', 'Wesleyan College', 'Chaminade University of Honolulu', 'Aurora University', 'Greenville University', 'MacMurray College', 'North Park University', 'Grace College and Theological Seminary', 'Indiana Wesleyan University-Marion', 'Grand View University', 'William Penn University', 'Friends University', 'Newman University', 'Sterling College', 'Campbellsville University', 'Kentucky Wesleyan College', 'University of Pikeville', 'Spalding University', 'Union College', 'Xavier University of Louisiana', 'Capitol Technology University', 'Finlandia University', 'North Central University', 'Drury University', 'Evangel University', 'Missouri Baptist University', 'Southwest Baptist University', 'Union College', 'The College of New Jersey', \"D'Youville College\", 'Medaille College', 'Ashland University', 'Franciscan University of Steubenville', 'Urbana University', 'Oklahoma Wesleyan University', 'Oklahoma Christian University', 'Oklahoma Baptist University', 'Geneva College', 'Mount Aloysius College', 'Waynesburg University', 'Columbia International University', 'North Greenville University', 'Aquinas College', 'Bryan College-Dayton', 'Cumberland University', 'Freed-Hardeman University', 'Tennessee Wesleyan University', 'Tusculum College', 'Hardin-Simmons University', 'Lubbock Christian University', 'Our Lady of the Lake University', 'Schreiner University', 'Southwestern Assemblies of God University', 'Ave Maria University']\n",
      "\n",
      "['California State University-San Bernardino', 'University of North Florida', 'New Mexico State University-Main Campus', 'CUNY Bernard M Baruch College', 'CUNY Brooklyn College', 'CUNY City College', 'CUNY Hunter College', 'CUNY John Jay College of Criminal Justice', 'CUNY Lehman College', 'CUNY Queens College', 'Farmingdale State College', 'University of Houston-Downtown', 'University of Wisconsin Colleges', 'California State University-San Marcos', 'University of North Georgia']\n",
      "\n",
      "['University of Puerto Rico-Aguadilla', 'University of Puerto Rico-Carolina', 'University of Puerto Rico-Cayey']\n",
      "\n",
      "Yale University 9\n",
      "Harvard University 9\n",
      "Dartmouth College 9\n",
      "Columbia University in the City of New York 9\n",
      "Cornell University 9\n",
      "Brown University 9\n"
     ]
    }
   ],
   "source": [
    "### PCA on our \"selected\" columns\n",
    "pca = PCA(n_components=3)\n",
    "\n",
    "X = pca.fit_transform(data)\n",
    "\n",
    "num_clusters = 30\n",
    "kmeans = KMeans(n_clusters=num_clusters, random_state=0)\n",
    "\n",
    "kmeans.fit(X)\n",
    "\n",
    "clusters = [[] for i in range(0,num_clusters)]\n",
    "for i,k in enumerate(kmeans.labels_):\n",
    "    clusters[k].append(labelled.values[i][0])\n",
    "    \n",
    "for r in clusters:\n",
    "    print(str(r) + '\\n')\n",
    "    \n",
    "for i,k in enumerate(kmeans.labels_):\n",
    "    if labelled.values[i][1] in ivies:\n",
    "        print(labelled.values[i][0], k)\n",
    "\n",
    "centers = kmeans.cluster_centers_"
   ]
  },
  {
   "cell_type": "code",
   "execution_count": 73,
   "metadata": {},
   "outputs": [
    {
     "name": "stderr",
     "output_type": "stream",
     "text": [
      "/Library/Frameworks/Python.framework/Versions/3.7/lib/python3.7/site-packages/ipykernel_launcher.py:17: FutureWarning: convert_objects is deprecated.  To re-infer data dtypes for object columns, use DataFrame.infer_objects()\n",
      "For all other conversions use the data-type specific converters pd.to_datetime, pd.to_timedelta and pd.to_numeric.\n"
     ]
    },
    {
     "name": "stdout",
     "output_type": "stream",
     "text": [
      "8\n",
      "588\n",
      "      UNITID    OPEID  OPEID6                                       INSTNM  \\\n",
      "1010  146719   171000    1710                    Loyola University Chicago   \n",
      "1762  173045   233400    2334                          Augsburg University   \n",
      "2260  190150   270700    2707  Columbia University in the City of New York   \n",
      "2516  198136   291300    2913                          Campbell University   \n",
      "3027  212054   325600    3256                            Drexel University   \n",
      "3502  225627   357800    3578             University of the Incarnate Word   \n",
      "3650  230852   368400    3684                            Champlain College   \n",
      "3701  232557  2053000   20530                           Liberty University   \n",
      "\n",
      "              CITY STABBR      ZIP  \\\n",
      "1010       Chicago     IL  60660.0   \n",
      "1762   Minneapolis     MN  55454.0   \n",
      "2260      New York     NY  10027.0   \n",
      "2516   Buies Creek     NC  27506.0   \n",
      "3027  Philadelphia     PA  19104.0   \n",
      "3502   San Antonio     TX  78209.0   \n",
      "3650    Burlington     VT   5401.0   \n",
      "3701     Lynchburg     VA  24515.0   \n",
      "\n",
      "                                           ACCREDAGENCY            INSTURL  \\\n",
      "1010                         Higher Learning Commission        www.luc.edu   \n",
      "1762                         Higher Learning Commission   www.augsburg.edu   \n",
      "2260       Middle States Commission on Higher Education   www.columbia.edu   \n",
      "2516  Southern Association of Colleges and Schools C...   www.campbell.edu   \n",
      "3027       Middle States Commission on Higher Education     www.drexel.edu   \n",
      "3502  Southern Association of Colleges and Schools C...        www.uiw.edu   \n",
      "3650         New England Commission of Higher Education  www.champlain.edu   \n",
      "3701  Southern Association of Colleges and Schools C...    www.liberty.edu   \n",
      "\n",
      "                                                 NPCURL  \\\n",
      "1010  www.luc.edu/undergrad/financialaid/netpricecal...   \n",
      "1762  https://augsburg.studentaidcalculator.com/surv...   \n",
      "2260         www.studentaffairs.columbia.edu/finaid/npc   \n",
      "2516    www.shoppingsheet.com/shopping/landing/campbell   \n",
      "3027  drexel.edu/drexelcentral/finaid/prospective-st...   \n",
      "3502         www.uiw.edu/finaid/estimateyourcosts2.html   \n",
      "3650  www.champlain.edu/admissions/undergraduate-adm...   \n",
      "3701  www.liberty.edu/npc/1516/userInfo?fn=null&ln=n...   \n",
      "\n",
      "                ...              OMACHT8_PTNFT_POOLED  poolyrsOM_FTFT  \\\n",
      "1010            ...                              61.0               2   \n",
      "1762            ...                             137.0               2   \n",
      "2260            ...                             137.0               2   \n",
      "2516            ...                             588.0               2   \n",
      "3027            ...                             768.0               2   \n",
      "3502            ...                             670.0               2   \n",
      "3650            ...                             118.0               2   \n",
      "3701            ...                            2315.0               2   \n",
      "\n",
      "      poolyrsOM_PTFT  poolyrsOM_FTNFT  poolyrsOM_PTNFT  \\\n",
      "1010               2                2                2   \n",
      "1762               2                2                2   \n",
      "2260               2                2                2   \n",
      "2516               2                2                2   \n",
      "3027               2                2                2   \n",
      "3502               2                2                2   \n",
      "3650               2                2                2   \n",
      "3701               2                2                2   \n",
      "\n",
      "      OMAWDP6_FTFT_POOLED_SUPP  OMAWDP8_FTFT_POOLED_SUPP  \\\n",
      "1010                      0.72                      0.73   \n",
      "1762                      0.63                      0.66   \n",
      "2260                      0.94                      0.95   \n",
      "2516                      0.50                      0.51   \n",
      "3027                      0.68                      0.70   \n",
      "3502                      0.42                      0.45   \n",
      "3650                      0.57                      0.58   \n",
      "3701                      0.51                      0.54   \n",
      "\n",
      "      OMENRYP8_FTFT_POOLED_SUPP  OMENRAP8_FTFT_POOLED_SUPP  \\\n",
      "1010                       0.00                       0.21   \n",
      "1762                       0.01                       0.15   \n",
      "2260                       0.00                       0.00   \n",
      "2516                       0.00                       0.42   \n",
      "3027                       0.00                       0.24   \n",
      "3502                       0.01                       0.41   \n",
      "3650                       0.00                       0.34   \n",
      "3701                       0.01                       0.26   \n",
      "\n",
      "      OMENRUP8_FTFT_POOLED_SUPP  \n",
      "1010                       0.06  \n",
      "1762                       0.19  \n",
      "2260                       0.05  \n",
      "2516                       0.07  \n",
      "3027                       0.06  \n",
      "3502                       0.14  \n",
      "3650                       0.08  \n",
      "3701                       0.19  \n",
      "\n",
      "[8 rows x 588 columns]\n"
     ]
    }
   ],
   "source": [
    "ivy_df = raw_df[raw_df[\"UNITID\"].isin([str(i) for i in ivies])]\n",
    "\n",
    "#ivy_df = ivy_df[ivy_df.columns[~ivy_df.isna().all()]]\n",
    "col = []\n",
    "ivy_vals = ivy_df.values\n",
    "for i in range(0, len(raw_df.columns)):\n",
    "    valid = True\n",
    "    for j in range(0, len(ivy_df)):\n",
    "        if pd.isnull(ivy_vals[j][i]):\n",
    "            valid = False\n",
    "    if valid:\n",
    "        col.append(ivy_df.columns[i])\n",
    "\n",
    "df1 = raw_df[col]\n",
    "\n",
    "\n",
    "df1 = df1.convert_objects(convert_numeric=True).round(2).dropna()\n",
    "\n",
    "print(len(df1))\n",
    "print(len(df1.columns))\n",
    "print(df1)"
   ]
  },
  {
   "cell_type": "code",
   "execution_count": 76,
   "metadata": {},
   "outputs": [
    {
     "name": "stderr",
     "output_type": "stream",
     "text": [
      "/Library/Frameworks/Python.framework/Versions/3.7/lib/python3.7/site-packages/sklearn/preprocessing/data.py:923: RuntimeWarning: All-NaN slice encountered\n",
      "  max_abs = np.nanmax(np.abs(X), axis=0)\n"
     ]
    },
    {
     "ename": "ValueError",
     "evalue": "Input contains NaN, infinity or a value too large for dtype('float64').",
     "output_type": "error",
     "traceback": [
      "\u001b[0;31m---------------------------------------------------------------------------\u001b[0m",
      "\u001b[0;31mValueError\u001b[0m                                Traceback (most recent call last)",
      "\u001b[0;32m<ipython-input-76-cc22651af3c2>\u001b[0m in \u001b[0;36m<module>\u001b[0;34m()\u001b[0m\n\u001b[1;32m      5\u001b[0m \u001b[0mpca\u001b[0m \u001b[0;34m=\u001b[0m \u001b[0mPCA\u001b[0m\u001b[0;34m(\u001b[0m\u001b[0mn_components\u001b[0m\u001b[0;34m=\u001b[0m\u001b[0;36m30\u001b[0m\u001b[0;34m)\u001b[0m\u001b[0;34m\u001b[0m\u001b[0m\n\u001b[1;32m      6\u001b[0m \u001b[0;34m\u001b[0m\u001b[0m\n\u001b[0;32m----> 7\u001b[0;31m \u001b[0mX_all\u001b[0m \u001b[0;34m=\u001b[0m \u001b[0mpca\u001b[0m\u001b[0;34m.\u001b[0m\u001b[0mfit_transform\u001b[0m\u001b[0;34m(\u001b[0m\u001b[0mX_all\u001b[0m\u001b[0;34m)\u001b[0m\u001b[0;34m\u001b[0m\u001b[0m\n\u001b[0m\u001b[1;32m      8\u001b[0m \u001b[0mlabels\u001b[0m \u001b[0;34m=\u001b[0m \u001b[0mraw_df\u001b[0m\u001b[0;34m[\u001b[0m\u001b[0;34m[\u001b[0m\u001b[0;34m\"INSTNM\"\u001b[0m\u001b[0;34m]\u001b[0m\u001b[0;34m]\u001b[0m\u001b[0;34m\u001b[0m\u001b[0m\n\u001b[1;32m      9\u001b[0m \u001b[0;34m\u001b[0m\u001b[0m\n",
      "\u001b[0;32m/Library/Frameworks/Python.framework/Versions/3.7/lib/python3.7/site-packages/sklearn/decomposition/pca.py\u001b[0m in \u001b[0;36mfit_transform\u001b[0;34m(self, X, y)\u001b[0m\n\u001b[1;32m    357\u001b[0m \u001b[0;34m\u001b[0m\u001b[0m\n\u001b[1;32m    358\u001b[0m         \"\"\"\n\u001b[0;32m--> 359\u001b[0;31m         \u001b[0mU\u001b[0m\u001b[0;34m,\u001b[0m \u001b[0mS\u001b[0m\u001b[0;34m,\u001b[0m \u001b[0mV\u001b[0m \u001b[0;34m=\u001b[0m \u001b[0mself\u001b[0m\u001b[0;34m.\u001b[0m\u001b[0m_fit\u001b[0m\u001b[0;34m(\u001b[0m\u001b[0mX\u001b[0m\u001b[0;34m)\u001b[0m\u001b[0;34m\u001b[0m\u001b[0m\n\u001b[0m\u001b[1;32m    360\u001b[0m         \u001b[0mU\u001b[0m \u001b[0;34m=\u001b[0m \u001b[0mU\u001b[0m\u001b[0;34m[\u001b[0m\u001b[0;34m:\u001b[0m\u001b[0;34m,\u001b[0m \u001b[0;34m:\u001b[0m\u001b[0mself\u001b[0m\u001b[0;34m.\u001b[0m\u001b[0mn_components_\u001b[0m\u001b[0;34m]\u001b[0m\u001b[0;34m\u001b[0m\u001b[0m\n\u001b[1;32m    361\u001b[0m \u001b[0;34m\u001b[0m\u001b[0m\n",
      "\u001b[0;32m/Library/Frameworks/Python.framework/Versions/3.7/lib/python3.7/site-packages/sklearn/decomposition/pca.py\u001b[0m in \u001b[0;36m_fit\u001b[0;34m(self, X)\u001b[0m\n\u001b[1;32m    379\u001b[0m \u001b[0;34m\u001b[0m\u001b[0m\n\u001b[1;32m    380\u001b[0m         X = check_array(X, dtype=[np.float64, np.float32], ensure_2d=True,\n\u001b[0;32m--> 381\u001b[0;31m                         copy=self.copy)\n\u001b[0m\u001b[1;32m    382\u001b[0m \u001b[0;34m\u001b[0m\u001b[0m\n\u001b[1;32m    383\u001b[0m         \u001b[0;31m# Handle n_components==None\u001b[0m\u001b[0;34m\u001b[0m\u001b[0;34m\u001b[0m\u001b[0m\n",
      "\u001b[0;32m/Library/Frameworks/Python.framework/Versions/3.7/lib/python3.7/site-packages/sklearn/utils/validation.py\u001b[0m in \u001b[0;36mcheck_array\u001b[0;34m(array, accept_sparse, accept_large_sparse, dtype, order, copy, force_all_finite, ensure_2d, allow_nd, ensure_min_samples, ensure_min_features, warn_on_dtype, estimator)\u001b[0m\n\u001b[1;32m    571\u001b[0m         \u001b[0;32mif\u001b[0m \u001b[0mforce_all_finite\u001b[0m\u001b[0;34m:\u001b[0m\u001b[0;34m\u001b[0m\u001b[0m\n\u001b[1;32m    572\u001b[0m             _assert_all_finite(array,\n\u001b[0;32m--> 573\u001b[0;31m                                allow_nan=force_all_finite == 'allow-nan')\n\u001b[0m\u001b[1;32m    574\u001b[0m \u001b[0;34m\u001b[0m\u001b[0m\n\u001b[1;32m    575\u001b[0m     \u001b[0mshape_repr\u001b[0m \u001b[0;34m=\u001b[0m \u001b[0m_shape_repr\u001b[0m\u001b[0;34m(\u001b[0m\u001b[0marray\u001b[0m\u001b[0;34m.\u001b[0m\u001b[0mshape\u001b[0m\u001b[0;34m)\u001b[0m\u001b[0;34m\u001b[0m\u001b[0m\n",
      "\u001b[0;32m/Library/Frameworks/Python.framework/Versions/3.7/lib/python3.7/site-packages/sklearn/utils/validation.py\u001b[0m in \u001b[0;36m_assert_all_finite\u001b[0;34m(X, allow_nan)\u001b[0m\n\u001b[1;32m     54\u001b[0m                 not allow_nan and not np.isfinite(X).all()):\n\u001b[1;32m     55\u001b[0m             \u001b[0mtype_err\u001b[0m \u001b[0;34m=\u001b[0m \u001b[0;34m'infinity'\u001b[0m \u001b[0;32mif\u001b[0m \u001b[0mallow_nan\u001b[0m \u001b[0;32melse\u001b[0m \u001b[0;34m'NaN, infinity'\u001b[0m\u001b[0;34m\u001b[0m\u001b[0m\n\u001b[0;32m---> 56\u001b[0;31m             \u001b[0;32mraise\u001b[0m \u001b[0mValueError\u001b[0m\u001b[0;34m(\u001b[0m\u001b[0mmsg_err\u001b[0m\u001b[0;34m.\u001b[0m\u001b[0mformat\u001b[0m\u001b[0;34m(\u001b[0m\u001b[0mtype_err\u001b[0m\u001b[0;34m,\u001b[0m \u001b[0mX\u001b[0m\u001b[0;34m.\u001b[0m\u001b[0mdtype\u001b[0m\u001b[0;34m)\u001b[0m\u001b[0;34m)\u001b[0m\u001b[0;34m\u001b[0m\u001b[0m\n\u001b[0m\u001b[1;32m     57\u001b[0m \u001b[0;34m\u001b[0m\u001b[0m\n\u001b[1;32m     58\u001b[0m \u001b[0;34m\u001b[0m\u001b[0m\n",
      "\u001b[0;31mValueError\u001b[0m: Input contains NaN, infinity or a value too large for dtype('float64')."
     ]
    }
   ],
   "source": [
    "### PCA on all columns\n",
    "from sklearn import preprocessing\n",
    "mbs = preprocessing.MaxAbsScaler()\n",
    "X_all = mbs.fit_transform(raw_df.select_dtypes(include=['int','float64']))\n",
    "pca = PCA(n_components=30)\n",
    "\n",
    "X_all = pca.fit_transform(X_all)\n",
    "labels = raw_df[[\"INSTNM\"]]\n",
    "\n",
    "num_clusters = 30\n",
    "kmeans = KMeans(n_clusters=num_clusters, random_state=0)\n",
    "\n",
    "kmeans.fit(X_all)\n",
    "\n",
    "clusters = [[] for i in range(0,num_clusters)]\n",
    "for i,k in enumerate(kmeans.labels_):\n",
    "    clusters[k].append(labels.values[i][0])\n",
    "    \n",
    "for r in clusters:\n",
    "    print(str(r) + '\\n')\n",
    "    \n",
    "for i,k in enumerate(kmeans.labels_):\n",
    "    if labelled.values[i][1] in ivies:\n",
    "        print(labelled.values[i][0], k)\n",
    "\n",
    "centers = kmeans.cluster_centers_"
   ]
  },
  {
   "cell_type": "code",
   "execution_count": null,
   "metadata": {},
   "outputs": [],
   "source": []
  }
 ],
 "metadata": {
  "kernelspec": {
   "display_name": "Python 3",
   "language": "python",
   "name": "python3"
  },
  "language_info": {
   "codemirror_mode": {
    "name": "ipython",
    "version": 3
   },
   "file_extension": ".py",
   "mimetype": "text/x-python",
   "name": "python",
   "nbconvert_exporter": "python",
   "pygments_lexer": "ipython3",
   "version": "3.7.0"
  }
 },
 "nbformat": 4,
 "nbformat_minor": 2
}
