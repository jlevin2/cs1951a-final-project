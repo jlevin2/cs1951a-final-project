{
 "cells": [
  {
   "cell_type": "code",
   "execution_count": 5,
   "metadata": {},
   "outputs": [],
   "source": [
    "import pandas as pd\n",
    "import scipy\n",
    "import matplotlib.pyplot as plt\n",
    "\n",
    "from sklearn import linear_model\n",
    "import statsmodels.formula.api as sm\n",
    "import numpy as np\n",
    "import math\n",
    "\n",
    "from sklearn.cluster import KMeans \n",
    "%matplotlib inline"
   ]
  },
  {
   "cell_type": "code",
   "execution_count": 2,
   "metadata": {},
   "outputs": [],
   "source": [
    "# Read in data\n",
    "raw_df = pd.read_csv('../data/CollegeScorecard_Raw_Data/MERGED2016_17_PP.csv',\n",
    "                     header=0,\n",
    "                     low_memory=False)\n",
    "\n",
    "# raw_df = raw_df.append(pd.read_csv('../data/CollegeScorecard_Raw_Data/MERGED2015_16_PP.csv',\n",
    "#                      header=0,\n",
    "#                      low_memory=False))\n",
    "\n",
    "# raw_df = raw_df.append(pd.read_csv('../data/CollegeScorecard_Raw_Data/MERGED2014_15_PP.csv',\n",
    "#                      header=0,\n",
    "#                      low_memory=False))\n",
    "\n",
    "# raw_df = raw_df.append(pd.read_csv('../data/CollegeScorecard_Raw_Data/MERGED2013_14_PP.csv',\n",
    "#                      header=0,\n",
    "#                      low_memory=False))"
   ]
  },
  {
   "cell_type": "code",
   "execution_count": 4,
   "metadata": {},
   "outputs": [
    {
     "name": "stdout",
     "output_type": "stream",
     "text": [
      "7175\n",
      "7175\n",
      "6442\n",
      "1093\n"
     ]
    }
   ],
   "source": [
    "div_adm = [\"UNITID\", \"INSTNM\", \"ADM_RATE\",\"SAT_AVG\", \n",
    "           \"UGDS\", \"UGDS_WHITE\",\n",
    "           \"UGDS_BLACK\", \"UGDS_HISP\",\n",
    "           \"UGDS_ASIAN\"]\n",
    "\n",
    "# Remove majority/historic diverse schools\n",
    "# Select demographics of interest\n",
    "print(len(raw_df))\n",
    "names = raw_df[(raw_df[\"HBCU\"] == 1) | (raw_df[\"PBI\"] == 1) | \n",
    "                  (raw_df[\"ANNHI\"] == 1) | (raw_df[\"TRIBAL\"] == 1) |\n",
    "                  (raw_df[\"AANAPII\"] == 1) | (raw_df[\"HSI\"] == 1)]\n",
    "names = names[['UNITID']]\n",
    "\n",
    "filtered = raw_df[~raw_df['UNITID'].isin(names['UNITID'])]\n",
    "\n",
    "print(len(filtered))\n",
    "\n",
    "df = filtered[div_adm]\n",
    "df = df.round(2).dropna()\n",
    "\n",
    "#df['buck_adm'] = pd.cut(df['ADM_RATE'], bins=10, precision=2)\n",
    "#df['buck_sat'] = pd.cut(df['SAT_AVG'], bins=15, precision=0)\n",
    "#df = df[['buck_adm', 'buck_sat', 'UGDS_BLACK', 'UGDS_WHITE', 'UGDS_ASIAN', 'UGDS_HISP']].dropna()\n",
    "print(len(df))"
   ]
  },
  {
   "cell_type": "code",
   "execution_count": 59,
   "metadata": {},
   "outputs": [
    {
     "data": {
      "text/plain": [
       "<matplotlib.axes._subplots.AxesSubplot at 0x145235588>"
      ]
     },
     "execution_count": 59,
     "metadata": {},
     "output_type": "execute_result"
    },
    {
     "data": {
      "image/png": "[encoded data removed]",
      "text/plain": [
       "<Figure size 432x288 with 1 Axes>"
      ]
     },
     "metadata": {
      "needs_background": "light"
     },
     "output_type": "display_data"
    }
   ],
   "source": [
    "data = df[[\"ADM_RATE\",\"SAT_AVG\", \"UGDS_WHITE\", \"UGDS_BLACK\", \"UGDS_HISP\",\"UGDS_ASIAN\"]]\n",
    "labelled = df[[\"INSTNM\",\"ADM_RATE\",\"SAT_AVG\", \"UGDS_WHITE\", \"UGDS_BLACK\", \"UGDS_HISP\",\"UGDS_ASIAN\"]]\n",
    "data = data[data[\"ADM_RATE\"] < 0.25]\n",
    "labelled = labelled[labelled[\"ADM_RATE\"] < 0.25]\n",
    "\n",
    "values = []\n",
    "for i in range(5, 25):\n",
    "    kmeans = KMeans(n_clusters=i, random_state=0)\n",
    "\n",
    "    kmeans.fit(data)\n",
    "    \n",
    "    values.append([i, kmeans.score(data)])\n",
    "\n",
    "\n",
    "values = np.array(values)\n",
    "#values = np.reshape(values, (20,2))\n",
    "\n",
    "v = pd.DataFrame({'Clusters' : values[:,0], 'Score' : values[:,1]})\n",
    "\n",
    "v.plot.scatter(x='Clusters', y='Score')"
   ]
  },
  {
   "cell_type": "code",
   "execution_count": 80,
   "metadata": {},
   "outputs": [
    {
     "data": {
      "text/plain": [
       "<matplotlib.collections.PathCollection at 0x1454936d8>"
      ]
     },
     "execution_count": 80,
     "metadata": {},
     "output_type": "execute_result"
    },
    {
     "data": {
      "image/png": "[encoded data removed]",
      "text/plain": [
       "<Figure size 432x288 with 1 Axes>"
      ]
     },
     "metadata": {
      "needs_background": "light"
     },
     "output_type": "display_data"
    }
   ],
   "source": [
    "num_clusters = 8\n",
    "kmeans = KMeans(n_clusters=num_clusters, random_state=0)\n",
    "\n",
    "kmeans.fit(data)\n",
    "\n",
    "plt.scatter(x=kmeans.cluster_centers_[:,0],y=kmeans.cluster_centers_[:,1])"
   ]
  },
  {
   "cell_type": "code",
   "execution_count": 81,
   "metadata": {},
   "outputs": [
    {
     "name": "stdout",
     "output_type": "stream",
     "text": [
      "['Oak Hills Christian College', 'Reading Hospital School of Health Sciences', 'Dallas Christian College']\n",
      "\n",
      "['University of California-Berkeley', 'Claremont McKenna College', 'Pomona College', 'Georgetown University', 'Grinnell College', 'Amherst College', 'Tufts University', 'Williams College', 'Carleton College', 'Dartmouth College', 'Cornell University', 'Haverford College', 'Swarthmore College']\n",
      "\n",
      "['College of the Ozarks', 'Liberty University']\n",
      "\n",
      "['United States Merchant Marine Academy']\n",
      "\n",
      "['Northwestern University', 'University of Notre Dame', 'Johns Hopkins University', 'Washington University in St Louis', 'Duke University', 'Carnegie Mellon University', 'University of Pennsylvania', 'Brown University', 'Rice University', 'Stanford University', 'Franklin W Olin College of Engineering']\n",
      "\n",
      "['University of California-Los Angeles', 'University of Southern California', 'Colby College', 'Barnard College', 'Davidson College', 'Middlebury College', 'Washington and Lee University']\n",
      "\n",
      "['Alice Lloyd College', 'Southwestern Assemblies of God University']\n",
      "\n",
      "['California Institute of Technology', 'Harvey Mudd College', 'Yale University', 'University of Chicago', 'Harvard University', 'Massachusetts Institute of Technology', 'Princeton University', 'Columbia University in the City of New York', 'Vanderbilt University']\n",
      "\n"
     ]
    }
   ],
   "source": [
    "clusters = [[] for i in range(0,num_clusters)]\n",
    "for i,k in enumerate(kmeans.labels_):\n",
    "    clusters[k].append(labelled.values[i][0])\n",
    "    \n",
    "for r in clusters:\n",
    "    print(str(r) + '\\n')"
   ]
  },
  {
   "cell_type": "code",
   "execution_count": 82,
   "metadata": {},
   "outputs": [
    {
     "name": "stdout",
     "output_type": "stream",
     "text": [
      "(7, ADM         0.081111\n",
      "SAT      1507.777778\n",
      "WHITE       0.405556\n",
      "BLACK       0.058889\n",
      "HISP        0.121111\n",
      "ASIAN       0.214444\n",
      "Name: 7, dtype: float64)\n",
      "['Oak Hills Christian College', 'Reading Hospital School of Health Sciences', 'Dallas Christian College']\n",
      "(4, ADM         0.128182\n",
      "SAT      1473.272727\n",
      "WHITE       0.451818\n",
      "BLACK       0.060000\n",
      "HISP        0.107273\n",
      "ASIAN       0.190000\n",
      "Name: 4, dtype: float64)\n",
      "['University of California-Berkeley', 'Claremont McKenna College', 'Pomona College', 'Georgetown University', 'Grinnell College', 'Amherst College', 'Tufts University', 'Williams College', 'Carleton College', 'Dartmouth College', 'Cornell University', 'Haverford College', 'Swarthmore College']\n",
      "(1, ADM         0.153846\n",
      "SAT      1429.692308\n",
      "WHITE       0.476154\n",
      "BLACK       0.062308\n",
      "HISP        0.111538\n",
      "ASIAN       0.141538\n",
      "Name: 1, dtype: float64)\n",
      "['College of the Ozarks', 'Liberty University']\n",
      "(5, ADM         0.187143\n",
      "SAT      1375.714286\n",
      "WHITE       0.564286\n",
      "BLACK       0.041429\n",
      "HISP        0.107143\n",
      "ASIAN       0.121429\n",
      "Name: 5, dtype: float64)\n",
      "['United States Merchant Marine Academy']\n",
      "(2, ADM         0.190\n",
      "SAT      1082.500\n",
      "WHITE       0.700\n",
      "BLACK       0.060\n",
      "HISP        0.035\n",
      "ASIAN       0.010\n",
      "Name: 2, dtype: float64)\n",
      "['Northwestern University', 'University of Notre Dame', 'Johns Hopkins University', 'Washington University in St Louis', 'Duke University', 'Carnegie Mellon University', 'University of Pennsylvania', 'Brown University', 'Rice University', 'Stanford University', 'Franklin W Olin College of Engineering']\n",
      "(3, ADM         0.20\n",
      "SAT      1268.00\n",
      "WHITE       0.74\n",
      "BLACK       0.03\n",
      "HISP        0.11\n",
      "ASIAN       0.08\n",
      "Name: 3, dtype: float64)\n",
      "['University of California-Los Angeles', 'University of Southern California', 'Colby College', 'Barnard College', 'Davidson College', 'Middlebury College', 'Washington and Lee University']\n",
      "(0, ADM        0.206667\n",
      "SAT      897.333333\n",
      "WHITE      0.680000\n",
      "BLACK      0.123333\n",
      "HISP       0.100000\n",
      "ASIAN      0.010000\n",
      "Name: 0, dtype: float64)\n",
      "['Alice Lloyd College', 'Southwestern Assemblies of God University']\n",
      "(6, ADM        0.225\n",
      "SAT      995.000\n",
      "WHITE      0.765\n",
      "BLACK      0.065\n",
      "HISP       0.110\n",
      "ASIAN      0.005\n",
      "Name: 6, dtype: float64)\n",
      "['California Institute of Technology', 'Harvey Mudd College', 'Yale University', 'University of Chicago', 'Harvard University', 'Massachusetts Institute of Technology', 'Princeton University', 'Columbia University in the City of New York', 'Vanderbilt University']\n"
     ]
    }
   ],
   "source": [
    "#np.set_printoptions(suppress=True,\n",
    "   #formatter={'float_kind':'{:16.3f}'.format}, linewidth=130)\n",
    "#pd.reset_option('all')\n",
    "\n",
    "clust_df = pd.DataFrame(kmeans.cluster_centers_, columns=[\"ADM\", \"SAT\", \"WHITE\", \"BLACK\", \"HISP\", \"ASIAN\"])\n",
    "\n",
    "for i,r in enumerate(clust_df.sort_values(by=[\"ADM\", \"SAT\"]).iterrows()):\n",
    "    print(r)\n",
    "    print(clusters[i])\n"
   ]
  },
  {
   "cell_type": "code",
   "execution_count": null,
   "metadata": {},
   "outputs": [],
   "source": []
  }
 ],
 "metadata": {
  "kernelspec": {
   "display_name": "Python 3",
   "language": "python",
   "name": "python3"
  },
  "language_info": {
   "codemirror_mode": {
    "name": "ipython",
    "version": 3
   },
   "file_extension": ".py",
   "mimetype": "text/x-python",
   "name": "python",
   "nbconvert_exporter": "python",
   "pygments_lexer": "ipython3",
   "version": "3.7.0"
  }
 },
 "nbformat": 4,
 "nbformat_minor": 1
}
