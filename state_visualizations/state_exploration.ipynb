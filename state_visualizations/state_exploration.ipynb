{
 "cells": [
  {
   "cell_type": "code",
   "execution_count": 10,
   "metadata": {},
   "outputs": [],
   "source": [
    "# imports\n",
    "import pandas as pd\n",
    "import numpy as np\n",
    "import matplotlib.pyplot as plt\n",
    "import matplotlib"
   ]
  },
  {
   "cell_type": "code",
   "execution_count": 11,
   "metadata": {
    "scrolled": true
   },
   "outputs": [
    {
     "name": "stderr",
     "output_type": "stream",
     "text": [
      "C:\\Users\\PeterP\\Miniconda3\\lib\\site-packages\\IPython\\core\\interactiveshell.py:2785: DtypeWarning: Columns (1729) have mixed types. Specify dtype option on import or set low_memory=False.\n",
      "  interactivity=interactivity, compiler=compiler, result=result)\n"
     ]
    }
   ],
   "source": [
    "# reading in\n",
    "df = pd.read_csv('./CollegeScorecard_Raw_Data/MERGED2015_16_PP.csv')\n",
    "column_names = list(df)"
   ]
  },
  {
   "cell_type": "code",
   "execution_count": 3,
   "metadata": {},
   "outputs": [
    {
     "data": {
      "text/html": [
       "<div>\n",
       "<style scoped>\n",
       "    .dataframe tbody tr th:only-of-type {\n",
       "        vertical-align: middle;\n",
       "    }\n",
       "\n",
       "    .dataframe tbody tr th {\n",
       "        vertical-align: top;\n",
       "    }\n",
       "\n",
       "    .dataframe thead th {\n",
       "        text-align: right;\n",
       "    }\n",
       "</style>\n",
       "<table border=\"1\" class=\"dataframe\">\n",
       "  <thead>\n",
       "    <tr style=\"text-align: right;\">\n",
       "      <th></th>\n",
       "      <th>PCIP01</th>\n",
       "      <th>PCIP03</th>\n",
       "      <th>PCIP04</th>\n",
       "      <th>PCIP05</th>\n",
       "      <th>PCIP09</th>\n",
       "      <th>PCIP10</th>\n",
       "      <th>PCIP11</th>\n",
       "      <th>PCIP12</th>\n",
       "      <th>PCIP13</th>\n",
       "      <th>PCIP14</th>\n",
       "      <th>...</th>\n",
       "      <th>PCIP44</th>\n",
       "      <th>PCIP45</th>\n",
       "      <th>PCIP46</th>\n",
       "      <th>PCIP47</th>\n",
       "      <th>PCIP48</th>\n",
       "      <th>PCIP49</th>\n",
       "      <th>PCIP50</th>\n",
       "      <th>PCIP51</th>\n",
       "      <th>PCIP52</th>\n",
       "      <th>PCIP54</th>\n",
       "    </tr>\n",
       "    <tr>\n",
       "      <th>STABBR</th>\n",
       "      <th></th>\n",
       "      <th></th>\n",
       "      <th></th>\n",
       "      <th></th>\n",
       "      <th></th>\n",
       "      <th></th>\n",
       "      <th></th>\n",
       "      <th></th>\n",
       "      <th></th>\n",
       "      <th></th>\n",
       "      <th></th>\n",
       "      <th></th>\n",
       "      <th></th>\n",
       "      <th></th>\n",
       "      <th></th>\n",
       "      <th></th>\n",
       "      <th></th>\n",
       "      <th></th>\n",
       "      <th></th>\n",
       "      <th></th>\n",
       "      <th></th>\n",
       "    </tr>\n",
       "  </thead>\n",
       "  <tbody>\n",
       "    <tr>\n",
       "      <th>FM</th>\n",
       "      <td>0.063700</td>\n",
       "      <td>0.000000</td>\n",
       "      <td>0.000000</td>\n",
       "      <td>0.000000</td>\n",
       "      <td>0.000000</td>\n",
       "      <td>0.000000</td>\n",
       "      <td>0.095600</td>\n",
       "      <td>0.000000</td>\n",
       "      <td>0.232800</td>\n",
       "      <td>0.000000</td>\n",
       "      <td>...</td>\n",
       "      <td>0.000000</td>\n",
       "      <td>0.058800</td>\n",
       "      <td>0.029400</td>\n",
       "      <td>0.000000</td>\n",
       "      <td>0.000000</td>\n",
       "      <td>0.000000</td>\n",
       "      <td>0.000000</td>\n",
       "      <td>0.117600</td>\n",
       "      <td>0.183800</td>\n",
       "      <td>0.000000</td>\n",
       "    </tr>\n",
       "    <tr>\n",
       "      <th>DC</th>\n",
       "      <td>0.000000</td>\n",
       "      <td>0.001422</td>\n",
       "      <td>0.005817</td>\n",
       "      <td>0.008294</td>\n",
       "      <td>0.030522</td>\n",
       "      <td>0.000506</td>\n",
       "      <td>0.094294</td>\n",
       "      <td>0.056739</td>\n",
       "      <td>0.009189</td>\n",
       "      <td>0.010011</td>\n",
       "      <td>...</td>\n",
       "      <td>0.007167</td>\n",
       "      <td>0.080650</td>\n",
       "      <td>0.000000</td>\n",
       "      <td>0.000000</td>\n",
       "      <td>0.000000</td>\n",
       "      <td>0.000000</td>\n",
       "      <td>0.074067</td>\n",
       "      <td>0.194333</td>\n",
       "      <td>0.244983</td>\n",
       "      <td>0.005672</td>\n",
       "    </tr>\n",
       "    <tr>\n",
       "      <th>WA</th>\n",
       "      <td>0.002625</td>\n",
       "      <td>0.004374</td>\n",
       "      <td>0.000270</td>\n",
       "      <td>0.001850</td>\n",
       "      <td>0.009307</td>\n",
       "      <td>0.004770</td>\n",
       "      <td>0.051421</td>\n",
       "      <td>0.211555</td>\n",
       "      <td>0.027925</td>\n",
       "      <td>0.008461</td>\n",
       "      <td>...</td>\n",
       "      <td>0.007564</td>\n",
       "      <td>0.013994</td>\n",
       "      <td>0.012709</td>\n",
       "      <td>0.038550</td>\n",
       "      <td>0.022422</td>\n",
       "      <td>0.018577</td>\n",
       "      <td>0.037668</td>\n",
       "      <td>0.196289</td>\n",
       "      <td>0.092211</td>\n",
       "      <td>0.002462</td>\n",
       "    </tr>\n",
       "    <tr>\n",
       "      <th>UT</th>\n",
       "      <td>0.001005</td>\n",
       "      <td>0.000771</td>\n",
       "      <td>0.000189</td>\n",
       "      <td>0.000379</td>\n",
       "      <td>0.004372</td>\n",
       "      <td>0.006620</td>\n",
       "      <td>0.049188</td>\n",
       "      <td>0.372608</td>\n",
       "      <td>0.010015</td>\n",
       "      <td>0.004617</td>\n",
       "      <td>...</td>\n",
       "      <td>0.001197</td>\n",
       "      <td>0.006137</td>\n",
       "      <td>0.004621</td>\n",
       "      <td>0.015680</td>\n",
       "      <td>0.006869</td>\n",
       "      <td>0.006627</td>\n",
       "      <td>0.031168</td>\n",
       "      <td>0.289916</td>\n",
       "      <td>0.073993</td>\n",
       "      <td>0.001061</td>\n",
       "    </tr>\n",
       "    <tr>\n",
       "      <th>MD</th>\n",
       "      <td>0.000543</td>\n",
       "      <td>0.004562</td>\n",
       "      <td>0.000683</td>\n",
       "      <td>0.001299</td>\n",
       "      <td>0.010097</td>\n",
       "      <td>0.013064</td>\n",
       "      <td>0.047874</td>\n",
       "      <td>0.251161</td>\n",
       "      <td>0.016932</td>\n",
       "      <td>0.013240</td>\n",
       "      <td>...</td>\n",
       "      <td>0.006893</td>\n",
       "      <td>0.023767</td>\n",
       "      <td>0.006189</td>\n",
       "      <td>0.012579</td>\n",
       "      <td>0.001189</td>\n",
       "      <td>0.011681</td>\n",
       "      <td>0.026627</td>\n",
       "      <td>0.184516</td>\n",
       "      <td>0.086708</td>\n",
       "      <td>0.005770</td>\n",
       "    </tr>\n",
       "  </tbody>\n",
       "</table>\n",
       "<p>5 rows × 38 columns</p>\n",
       "</div>"
      ],
      "text/plain": [
       "          PCIP01    PCIP03    PCIP04    PCIP05    PCIP09    PCIP10    PCIP11  \\\n",
       "STABBR                                                                         \n",
       "FM      0.063700  0.000000  0.000000  0.000000  0.000000  0.000000  0.095600   \n",
       "DC      0.000000  0.001422  0.005817  0.008294  0.030522  0.000506  0.094294   \n",
       "WA      0.002625  0.004374  0.000270  0.001850  0.009307  0.004770  0.051421   \n",
       "UT      0.001005  0.000771  0.000189  0.000379  0.004372  0.006620  0.049188   \n",
       "MD      0.000543  0.004562  0.000683  0.001299  0.010097  0.013064  0.047874   \n",
       "\n",
       "          PCIP12    PCIP13    PCIP14    ...       PCIP44    PCIP45    PCIP46  \\\n",
       "STABBR                                  ...                                    \n",
       "FM      0.000000  0.232800  0.000000    ...     0.000000  0.058800  0.029400   \n",
       "DC      0.056739  0.009189  0.010011    ...     0.007167  0.080650  0.000000   \n",
       "WA      0.211555  0.027925  0.008461    ...     0.007564  0.013994  0.012709   \n",
       "UT      0.372608  0.010015  0.004617    ...     0.001197  0.006137  0.004621   \n",
       "MD      0.251161  0.016932  0.013240    ...     0.006893  0.023767  0.006189   \n",
       "\n",
       "          PCIP47    PCIP48    PCIP49    PCIP50    PCIP51    PCIP52    PCIP54  \n",
       "STABBR                                                                        \n",
       "FM      0.000000  0.000000  0.000000  0.000000  0.117600  0.183800  0.000000  \n",
       "DC      0.000000  0.000000  0.000000  0.074067  0.194333  0.244983  0.005672  \n",
       "WA      0.038550  0.022422  0.018577  0.037668  0.196289  0.092211  0.002462  \n",
       "UT      0.015680  0.006869  0.006627  0.031168  0.289916  0.073993  0.001061  \n",
       "MD      0.012579  0.001189  0.011681  0.026627  0.184516  0.086708  0.005770  \n",
       "\n",
       "[5 rows x 38 columns]"
      ]
     },
     "execution_count": 3,
     "metadata": {},
     "output_type": "execute_result"
    }
   ],
   "source": [
    "# avg % of degrees handed out for each state\n",
    "# match columns where first 4 characters are \"PCIP\"\n",
    "pcip_headers = [x for x in column_names if x[:4] == \"PCIP\"]\n",
    "# these are the columns of interest\n",
    "pcip_state = ['STABBR'] + pcip_headers\n",
    "# pull out columns of interest\n",
    "df_degrees = df[pcip_state]\n",
    "# group by state, get mean for remaining columns\n",
    "dfd2 = df_degrees.groupby(['STABBR']).mean()\n",
    "dfd2_sort_cs = dfd2.sort_values(by=['PCIP11'], ascending=False)\n",
    "dfd2_sort_cs.head()"
   ]
  },
  {
   "cell_type": "code",
   "execution_count": 4,
   "metadata": {
    "scrolled": true
   },
   "outputs": [
    {
     "name": "stderr",
     "output_type": "stream",
     "text": [
      "C:\\Users\\PeterP\\Miniconda3\\lib\\site-packages\\ipykernel_launcher.py:4: SettingWithCopyWarning: \n",
      "A value is trying to be set on a copy of a slice from a DataFrame.\n",
      "Try using .loc[row_indexer,col_indexer] = value instead\n",
      "\n",
      "See the caveats in the documentation: http://pandas.pydata.org/pandas-docs/stable/indexing.html#indexing-view-versus-copy\n",
      "  after removing the cwd from sys.path.\n"
     ]
    },
    {
     "data": {
      "text/plain": [
       "<matplotlib.axes._subplots.AxesSubplot at 0x1da291b4c18>"
      ]
     },
     "execution_count": 4,
     "metadata": {},
     "output_type": "execute_result"
    },
    {
     "data": {
      "image/png": "[encoded data removed]",
      "text/plain": [
       "<Figure size 432x288 with 1 Axes>"
      ]
     },
     "metadata": {
      "needs_background": "light"
     },
     "output_type": "display_data"
    }
   ],
   "source": [
    "# avg admission rate\n",
    "df_adm = df[['INSTNM', 'STABBR', 'ADM_RATE_ALL', 'OPENADMP']]\n",
    "# adjust community colleges/open admission policy schools to have adm_rate of 100%\n",
    "df_adm['ADM_RATE_WITH_OPADM'] = np.where(df_adm['OPENADMP'] == 1, 1, df_adm['ADM_RATE_ALL'])\n",
    "# drop columns we don't need\n",
    "df_adm2 = pd.DataFrame(df_adm[['STABBR', 'ADM_RATE_ALL', 'ADM_RATE_WITH_OPADM']])\n",
    "df_adm2 = df_adm2.groupby(['STABBR']).agg(['mean', 'count'])\n",
    "df_adm2.columns = [' '.join(col).strip() for col in df_adm2.columns.values]\n",
    "df_adm2.rename(columns={\"ADM_RATE_ALL mean\": \"adm_rate\", \"ADM_RATE_ALL count\": \"adm_count\"}, inplace = True)\n",
    "df_adm2.rename(columns={\"ADM_RATE_WITH_OPADM mean\": \"adm_rate_opadm\", \"ADM_RATE_WITH_OPADM count\": \"adm_rate_count\"}, inplace = True)\n",
    "df_adm2 = df_adm2.sort_values(by=['adm_rate'])\n",
    "#print(df_adm2)\n",
    "\n",
    "df_adm2.plot.scatter(x='adm_rate', y='adm_count')\n"
   ]
  },
  {
   "cell_type": "code",
   "execution_count": 5,
   "metadata": {},
   "outputs": [
    {
     "name": "stdout",
     "output_type": "stream",
     "text": [
      "       ADM_RATE_ALL      COSTT4_A region\n",
      "               mean          mean       \n",
      "STABBR                                  \n",
      "AK         0.578797  20102.500000      4\n",
      "AL         0.679748  26424.718750      1\n",
      "AR         0.702766  24772.652174      1\n",
      "AZ         0.744697  28883.947368      4\n",
      "CA         0.609487  38937.275591      4\n",
      "CO         0.743276  29153.454545      4\n",
      "CT         0.585359  40356.227273      2\n",
      "DC         0.602861  45823.375000      1\n",
      "DE         0.599971  30111.166667      1\n",
      "FL         0.655699  31287.166667      1\n",
      "FM         0.729076   7784.000000      5\n",
      "GA         0.640335  28948.137931      1\n",
      "GU         1.000000  21980.000000      5\n",
      "HI         0.701785  22633.375000      4\n",
      "IA         0.696443  35629.944444      3\n",
      "ID         0.847223  24396.750000      4\n",
      "IL         0.657597  35527.000000      3\n",
      "IN         0.723922  33113.800000      3\n",
      "KS         0.714821  29036.481481      3\n",
      "KY         0.708533  30394.766667      1\n",
      "LA         0.695952  24763.241379      1\n",
      "MA         0.608298  46473.824324      2\n",
      "MD         0.636894  35104.206897      1\n",
      "ME         0.693126  36326.294118      2\n",
      "MI         0.717271  30157.846154      3\n",
      "MN         0.683725  34147.976190      3\n",
      "MO         0.690584  30400.520000      3\n",
      "MS         0.696670  23557.000000      1\n",
      "MT         0.806561  24187.500000      4\n",
      "NC         0.621399  32061.106061      1\n",
      "ND         0.768508  20804.875000      3\n",
      "NE         0.705311  30563.300000      3\n",
      "NH         0.762357  38787.785714      2\n",
      "NJ         0.667526  32550.400000      2\n",
      "NM         0.629797  18579.526316      4\n",
      "NV         0.777624  27062.428571      4\n",
      "NY         0.651907  33580.209677      2\n",
      "OH         0.729003  30340.495413      3\n",
      "OK         0.676673  25116.800000      1\n",
      "OR         0.721110  34729.678571      4\n",
      "PA         0.685699  36154.827815      2\n",
      "PR         0.699259  10997.790698      5\n",
      "RI         0.612196  46999.888889      2\n",
      "SC         0.652143  29660.710526      1\n",
      "SD         0.775726  27002.454545      3\n",
      "TN         0.688438  30132.920000      1\n",
      "TX         0.675699  29131.269663      1\n",
      "UT         0.819570  25522.777778      4\n",
      "VA         0.688527  34029.300000      1\n",
      "VI         0.949726  16403.000000      5\n",
      "VT         0.734899  41209.176471      2\n",
      "WA         0.742982  35113.821429      4\n",
      "WI         0.788040  31050.926829      3\n",
      "WV         0.725026  23837.619048      1\n",
      "WY         0.956624  18691.000000      4\n"
     ]
    }
   ],
   "source": [
    "# plot COST x ADM RATE aggregated by state\n",
    "#df_adm2['new'] = df_adm2['ADM_RATE_ALL mean']\n",
    "df2 = df[['STABBR', 'ADM_RATE_ALL', \"COSTT4_A\"]]\n",
    "df2 = df2.dropna()\n",
    "df3 = df2.groupby(['STABBR']).agg(['mean'])\n",
    "\n",
    "# try group by regions\n",
    "# south atlantic\n",
    "df3['region'] = 1\n",
    "# northeast\n",
    "# new england\n",
    "df3.at[['CT', 'MA', 'NH', 'RI', 'VT', 'ME'], 'region'] = 2\n",
    "# mid atlantic\n",
    "df3.at[['NJ', 'NY', 'PA'], 'region'] = 2\n",
    "# midwest\n",
    "# east north central\n",
    "df3.at[['IL', 'IN', 'MI', 'OH', 'WI'], 'region'] = 3\n",
    "# west north central\n",
    "df3.at[['IA', 'KS', 'MN', 'MO', 'NE', 'ND', 'SD'], 'region'] = 3\n",
    "# south\n",
    "# south atlantic is default\n",
    "# east south central\n",
    "df3.at[['AL', 'KY', 'TN', 'MS'], 'region'] = 1\n",
    "# west south central\n",
    "df3.at[['TX', 'OK', 'AR', 'LA'], 'region'] = 1\n",
    "# west\n",
    "# mountain\n",
    "df3.at[['AZ', 'CO', 'ID', 'MT', 'NV', 'NM', 'UT', 'WY'], 'region'] = 4\n",
    "# pacific\n",
    "df3.at[['AK', 'CA', 'HI', 'OR', 'WA'], 'region'] = 4\n",
    "\n",
    "# others\n",
    "df3.at[['FM', 'GU', 'PR', 'VI'], 'region'] = 5\n",
    "\n",
    "print(df3)"
   ]
  },
  {
   "cell_type": "code",
   "execution_count": 6,
   "metadata": {},
   "outputs": [
    {
     "data": {
      "text/plain": [
       "<matplotlib.axes._subplots.AxesSubplot at 0x1da3453f4e0>"
      ]
     },
     "execution_count": 6,
     "metadata": {},
     "output_type": "execute_result"
    },
    {
     "data": {
      "image/png": "[encoded data removed]",
      "text/plain": [
       "<Figure size 432x288 with 2 Axes>"
      ]
     },
     "metadata": {
      "needs_background": "light"
     },
     "output_type": "display_data"
    }
   ],
   "source": [
    "df3.columns = ['AVG_ADM', '4Y_COST', 'region']\n",
    "labels = ['SA', 'NE', 'MA', 'ENC', 'WNC', 'ESC', 'WSC', 'MT', 'PA', 'OTR']\n",
    "labels = [int(i % 23) for i in df3['region']]\n",
    "colors = ['red', 'orange', 'yellow', 'green', 'blue']\n",
    "#print(colors)\n",
    "df3.plot.scatter(x='AVG_ADM', y='4Y_COST', c=labels, cmap=matplotlib.colors.ListedColormap(colors))"
   ]
  },
  {
   "cell_type": "code",
   "execution_count": 7,
   "metadata": {},
   "outputs": [
    {
     "data": {
      "text/plain": [
       "<matplotlib.axes._subplots.AxesSubplot at 0x1da2e371d30>"
      ]
     },
     "execution_count": 7,
     "metadata": {},
     "output_type": "execute_result"
    },
    {
     "data": {
      "image/png": "[encoded data removed]",
      "text/plain": [
       "<Figure size 432x288 with 1 Axes>"
      ]
     },
     "metadata": {
      "needs_background": "light"
     },
     "output_type": "display_data"
    }
   ],
   "source": [
    "# plot COST x ADM RATE w/o aggregate by state\n",
    "df2 = df[['STABBR', 'ADM_RATE_ALL', \"COSTT4_A\"]]\n",
    "df2 = df2.dropna()\n",
    "df2.plot.scatter(x='ADM_RATE_ALL', y= 'COSTT4_A')"
   ]
  },
  {
   "cell_type": "code",
   "execution_count": null,
   "metadata": {},
   "outputs": [],
   "source": []
  },
  {
   "cell_type": "code",
   "execution_count": null,
   "metadata": {},
   "outputs": [],
   "source": []
  },
  {
   "cell_type": "code",
   "execution_count": null,
   "metadata": {},
   "outputs": [],
   "source": []
  }
 ],
 "metadata": {
  "kernelspec": {
   "display_name": "Python 3",
   "language": "python",
   "name": "python3"
  },
  "language_info": {
   "codemirror_mode": {
    "name": "ipython",
    "version": 3
   },
   "file_extension": ".py",
   "mimetype": "text/x-python",
   "name": "python",
   "nbconvert_exporter": "python",
   "pygments_lexer": "ipython3",
   "version": "3.5.6"
  }
 },
 "nbformat": 4,
 "nbformat_minor": 2
}
